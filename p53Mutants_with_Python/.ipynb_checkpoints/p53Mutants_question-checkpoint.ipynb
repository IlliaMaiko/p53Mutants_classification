{
 "cells": [
  {
   "cell_type": "markdown",
   "metadata": {},
   "source": [
    "## Library initialization"
   ]
  },
  {
   "cell_type": "code",
   "execution_count": 1,
   "metadata": {},
   "outputs": [],
   "source": [
    "import pandas as pd\n",
    "import matplotlib.pyplot as plt\n",
    "import numpy as np\n",
    "import math\n",
    "from sklearn.metrics import confusion_matrix"
   ]
  },
  {
   "cell_type": "markdown",
   "metadata": {},
   "source": [
    "## Data extraction"
   ]
  },
  {
   "cell_type": "markdown",
   "metadata": {},
   "source": [
    "Data extraction function for first 5000 rows with converting to panda's DataFrame:"
   ]
  },
  {
   "cell_type": "code",
   "execution_count": 2,
   "metadata": {},
   "outputs": [],
   "source": [
    "link = \"K9.data\" #link to data set: Richard https://archive.ics.uci.edu/ml/datasets/p53+Mutants , Richard H. Lathrop, UC Irvine, http://www.ics.uci.edu/ rickl\n",
    "\n",
    "def read_data(link):\n",
    "    with open(link) as myfile:\n",
    "        k = []\n",
    "        text = myfile.read()\n",
    "        lines = text.split(sep = \"\\n\")\n",
    "        for i in range(5000):\n",
    "            k.append(lines[i].split(sep = \",\"))\n",
    "        k = pd.DataFrame(k)\n",
    "    return k"
   ]
  },
  {
   "cell_type": "markdown",
   "metadata": {},
   "source": [
    "Data extraction performance:"
   ]
  },
  {
   "cell_type": "code",
   "execution_count": 3,
   "metadata": {},
   "outputs": [],
   "source": [
    "dataset = read_data(link)"
   ]
  },
  {
   "cell_type": "markdown",
   "metadata": {},
   "source": [
    "## Data pre-processing"
   ]
  },
  {
   "cell_type": "code",
   "execution_count": 4,
   "metadata": {},
   "outputs": [],
   "source": [
    "#Last column is garbage, so we drop it:\n",
    "dataset.drop(5409, axis=1, inplace=True)\n",
    "#Transform our data from string to numbers or Nan:\n",
    "dataset.iloc[:,:-1] = dataset.iloc[:,:-1].apply(pd.to_numeric, errors='coerce')\n",
    "#Drop Nan values:\n",
    "dataset.dropna(inplace=True)\n",
    "#Change our output to numerical: 'inactive' --> 0 and 'active' --> 1:\n",
    "dataset.replace({'inactive': 0, 'active': 1}, inplace=True)"
   ]
  },
  {
   "cell_type": "markdown",
   "metadata": {},
   "source": [
    "## Data analysis"
   ]
  },
  {
   "cell_type": "markdown",
   "metadata": {},
   "source": [
    "First step is to look at correlation of the input columns with an output:"
   ]
  },
  {
   "cell_type": "code",
   "execution_count": 5,
   "metadata": {},
   "outputs": [],
   "source": [
    "corr_with_res = []\n",
    "#Output column extraction:\n",
    "test = pd.DataFrame(dataset[5408])\n",
    "\n",
    "for i in range(5408):\n",
    "    corr_with_res.append((test.join(dataset[i])).astype(float).corr()[5408][i])\n",
    "\n",
    "whole_corr = pd.DataFrame(corr_with_res)"
   ]
  },
  {
   "cell_type": "markdown",
   "metadata": {},
   "source": [
    "Our set is over represented with negative results, so lets look on positive results:"
   ]
  },
  {
   "cell_type": "code",
   "execution_count": 6,
   "metadata": {},
   "outputs": [],
   "source": [
    "active = dataset[dataset[5408] == 1]"
   ]
  },
  {
   "cell_type": "markdown",
   "metadata": {},
   "source": [
    "For 5000 rows we have 36 'active' results, how they correlate between each other:"
   ]
  },
  {
   "cell_type": "code",
   "execution_count": 7,
   "metadata": {},
   "outputs": [],
   "source": [
    "active_corr = active.drop(5408, axis = 1).T.astype(float).corr()"
   ]
  },
  {
   "cell_type": "markdown",
   "metadata": {},
   "source": [
    "Now we have matrix of correlations, but it is to big to analys it manually. Next function use $whole\\_corr$ to group indexes by same level of significance on output, use $alpha$ and $beta$ to choose level of significance as interval $[alpha, beta]$ which is an absolute value of elements in $whole\\_corr$ and use $drop$ to drop some values for future purposes; as an output of $corr\\_mean$ we get mean of correlations of 'active' rows and idexes we used to obtain this result:"
   ]
  },
  {
   "cell_type": "code",
   "execution_count": 8,
   "metadata": {},
   "outputs": [],
   "source": [
    "def corr_mean(alpha = 0, beta = 0.4, drop = pd.Index([])):\n",
    "    signif_col = (whole_corr[whole_corr[0].abs() > alpha].index & whole_corr[whole_corr[0].abs() < beta].index).difference(drop)\n",
    "    active_signif = active[signif_col]\n",
    "    active_signif_corr = active_signif.T.astype(float).corr()\n",
    "    mean = 0\n",
    "\n",
    "    for i in range(len(active_signif_corr) - 1):\n",
    "        sum_row_corr = active_signif_corr.iloc[i:i+1,i+1:].T.abs().sum().values[0]\n",
    "        mean += sum_row_corr\n",
    "    mean = mean/(((len(active_signif_corr) - 1)*len(active_signif_corr))/2)\n",
    "    return mean, signif_col"
   ]
  },
  {
   "cell_type": "markdown",
   "metadata": {},
   "source": [
    "In the next four cells we draw our data for increasing and decreasing significance respectively, to see where valuable indexes are:"
   ]
  },
  {
   "cell_type": "code",
   "execution_count": 9,
   "metadata": {},
   "outputs": [],
   "source": [
    "x = []\n",
    "y = []\n",
    "n = 100\n",
    "\n",
    "for i in range(n):\n",
    "    x.append((0.4)*i/n)\n",
    "    y.append(corr_mean((0.4)*i/n)[0])"
   ]
  },
  {
   "cell_type": "code",
   "execution_count": 10,
   "metadata": {},
   "outputs": [
    {
     "data": {
      "text/plain": [
       "[<matplotlib.lines.Line2D at 0x10d59a128>]"
      ]
     },
     "execution_count": 10,
     "metadata": {},
     "output_type": "execute_result"
    },
    {
     "data": {
      "image/png": "[encoded data removed]",
      "text/plain": [
       "<Figure size 432x288 with 1 Axes>"
      ]
     },
     "metadata": {
      "needs_background": "light"
     },
     "output_type": "display_data"
    }
   ],
   "source": [
    "plt.plot(x,y)"
   ]
  },
  {
   "cell_type": "code",
   "execution_count": 11,
   "metadata": {},
   "outputs": [],
   "source": [
    "x = []\n",
    "y = []\n",
    "n = 100\n",
    "\n",
    "for i in range(n):\n",
    "    x.append((0.4)*i/n)\n",
    "    y.append(corr_mean(0, (0.4)*i/n)[0])"
   ]
  },
  {
   "cell_type": "code",
   "execution_count": 12,
   "metadata": {},
   "outputs": [
    {
     "data": {
      "text/plain": [
       "[<matplotlib.lines.Line2D at 0x501af4e0>]"
      ]
     },
     "execution_count": 12,
     "metadata": {},
     "output_type": "execute_result"
    },
    {
     "data": {
      "image/png": "[encoded data removed]",
      "text/plain": [
       "<Figure size 432x288 with 1 Axes>"
      ]
     },
     "metadata": {
      "needs_background": "light"
     },
     "output_type": "display_data"
    }
   ],
   "source": [
    "plt.plot(x,y)"
   ]
  },
  {
   "cell_type": "markdown",
   "metadata": {},
   "source": [
    "In the next seventy cells we used so called 'How to catch a lion in the Sahara desert' method to find $alpha$ and $beta$ that gave us high level of coreletion on our rows, than we droped this indexes and restart process:"
   ]
  },
  {
   "cell_type": "code",
   "execution_count": 13,
   "metadata": {},
   "outputs": [
    {
     "name": "stdout",
     "output_type": "stream",
     "text": [
      "1.0\n",
      "Int64Index([66, 3261], dtype='int64')\n"
     ]
    }
   ],
   "source": [
    "alpha = 0.22\n",
    "beta = 0.225\n",
    "mean, save = corr_mean(alpha = 0.22 , beta = 0.225)\n",
    "print(mean)\n",
    "print(save)"
   ]
  },
  {
   "cell_type": "code",
   "execution_count": 14,
   "metadata": {},
   "outputs": [
    {
     "name": "stdout",
     "output_type": "stream",
     "text": [
      "0.9692503034215866\n",
      "Int64Index([ 241,  315,  484,  559,  606,  737, 1405, 1514, 1883, 2091, 2429,\n",
      "            2697, 2720, 2747, 2966, 2997, 3293, 3300, 3455, 3502, 4058, 4193,\n",
      "            4343, 5274, 5335],\n",
      "           dtype='int64')\n"
     ]
    }
   ],
   "source": [
    "alpha = 0.0115\n",
    "beta = 0.0116\n",
    "drop1 = save\n",
    "mean, save1 = corr_mean(alpha , beta, drop1)\n",
    "print(mean)\n",
    "print(save1)"
   ]
  },
  {
   "cell_type": "code",
   "execution_count": 15,
   "metadata": {},
   "outputs": [
    {
     "name": "stdout",
     "output_type": "stream",
     "text": [
      "0.9790097084253334\n",
      "Int64Index([  19,   23,   82,   99,  105,  113,  138,  142,  148,  150,\n",
      "            ...\n",
      "            4567, 4892, 4973, 5002, 5008, 5016, 5086, 5098, 5190, 5314],\n",
      "           dtype='int64', length=116)\n"
     ]
    }
   ],
   "source": [
    "alpha = 0.0029\n",
    "beta = 0.0032\n",
    "drop2 = save | save1\n",
    "mean, save2 = corr_mean(alpha , beta, drop2)\n",
    "print(mean)\n",
    "print(save2)"
   ]
  },
  {
   "cell_type": "code",
   "execution_count": 16,
   "metadata": {},
   "outputs": [
    {
     "name": "stdout",
     "output_type": "stream",
     "text": [
      "0.9903499303437886\n",
      "Int64Index([ 575,  577, 1269, 1349, 1407, 1682, 1763, 2226, 2592, 2984, 3429,\n",
      "            3728, 3761, 3792, 4124, 4187, 4190, 4202, 4248, 5348],\n",
      "           dtype='int64')\n"
     ]
    }
   ],
   "source": [
    "alpha = 0.0121\n",
    "beta = 0.01225\n",
    "drop3 = drop2 | save2\n",
    "mean, save3 = corr_mean(alpha , beta, drop3)\n",
    "print(mean)\n",
    "print(save3)"
   ]
  },
  {
   "cell_type": "code",
   "execution_count": 17,
   "metadata": {},
   "outputs": [
    {
     "name": "stdout",
     "output_type": "stream",
     "text": [
      "0.9762724814621782\n",
      "Int64Index([2755, 3477, 4770], dtype='int64')\n"
     ]
    }
   ],
   "source": [
    "alpha = 0.01099\n",
    "beta = 0.011\n",
    "drop4 = drop3 | save3\n",
    "mean, save4 = corr_mean(alpha , beta, drop4)\n",
    "print(mean)\n",
    "print(save4)"
   ]
  },
  {
   "cell_type": "code",
   "execution_count": 18,
   "metadata": {},
   "outputs": [
    {
     "name": "stdout",
     "output_type": "stream",
     "text": [
      "0.9432420789854078\n",
      "Int64Index([1839, 2520, 2594], dtype='int64')\n"
     ]
    }
   ],
   "source": [
    "alpha = 0.01098\n",
    "beta = 0.01099\n",
    "drop5 = drop4 | save4\n",
    "mean, save5 = corr_mean(alpha , beta, drop5)\n",
    "print(mean)\n",
    "print(save5)"
   ]
  },
  {
   "cell_type": "code",
   "execution_count": 19,
   "metadata": {},
   "outputs": [
    {
     "name": "stdout",
     "output_type": "stream",
     "text": [
      "0.9624046916662425\n",
      "Int64Index([ 438,  530, 1342, 2185, 2421, 2764, 3462, 3948, 4123, 4148, 4219,\n",
      "            4358, 4415, 4801, 5293],\n",
      "           dtype='int64')\n"
     ]
    }
   ],
   "source": [
    "alpha = 0.0109\n",
    "beta = 0.01096\n",
    "drop6 = drop5 | save5\n",
    "mean, save6 = corr_mean(alpha , beta, drop6)\n",
    "print(mean)\n",
    "print(save6)"
   ]
  },
  {
   "cell_type": "code",
   "execution_count": 20,
   "metadata": {},
   "outputs": [
    {
     "name": "stdout",
     "output_type": "stream",
     "text": [
      "1.0\n",
      "Int64Index([1383, 3693], dtype='int64')\n"
     ]
    }
   ],
   "source": [
    "alpha = 0.01089\n",
    "beta = 0.0109\n",
    "drop7 = drop6 | save6 \n",
    "mean, save7 = corr_mean(alpha , beta, drop7)\n",
    "print(mean)\n",
    "print(save7)"
   ]
  },
  {
   "cell_type": "code",
   "execution_count": 21,
   "metadata": {},
   "outputs": [
    {
     "name": "stdout",
     "output_type": "stream",
     "text": [
      "1.0\n",
      "Int64Index([1701, 4589], dtype='int64')\n"
     ]
    }
   ],
   "source": [
    "alpha = 0.01088\n",
    "beta = 0.01089\n",
    "drop8 = drop7 | save7 \n",
    "mean, save8 = corr_mean(alpha , beta, drop8)\n",
    "print(mean)\n",
    "print(save8)"
   ]
  },
  {
   "cell_type": "code",
   "execution_count": 22,
   "metadata": {},
   "outputs": [
    {
     "name": "stdout",
     "output_type": "stream",
     "text": [
      "0.9968008237650818\n",
      "Int64Index([1132, 2613, 4091], dtype='int64')\n"
     ]
    }
   ],
   "source": [
    "alpha = 0.01086\n",
    "beta = 0.01087\n",
    "drop9 = drop8 | save8\n",
    "mean, save9 = corr_mean(alpha , beta, drop9)\n",
    "print(mean)\n",
    "print(save9)"
   ]
  },
  {
   "cell_type": "code",
   "execution_count": 23,
   "metadata": {},
   "outputs": [
    {
     "name": "stdout",
     "output_type": "stream",
     "text": [
      "1.0\n",
      "Int64Index([433, 5196], dtype='int64')\n"
     ]
    }
   ],
   "source": [
    "alpha = 0.010851\n",
    "beta = 0.010856\n",
    "drop10 = drop9 | save9\n",
    "mean, save10 = corr_mean(alpha , beta, drop10)\n",
    "print(mean)\n",
    "print(save10)"
   ]
  },
  {
   "cell_type": "code",
   "execution_count": 24,
   "metadata": {},
   "outputs": [
    {
     "name": "stdout",
     "output_type": "stream",
     "text": [
      "1.0\n",
      "Int64Index([562, 2288], dtype='int64')\n"
     ]
    }
   ],
   "source": [
    "alpha = 0.01084\n",
    "beta = 0.01085\n",
    "drop11 = drop10 | save10\n",
    "mean, save11 = corr_mean(alpha , beta, drop11)\n",
    "print(mean)\n",
    "print(save11)"
   ]
  },
  {
   "cell_type": "code",
   "execution_count": 25,
   "metadata": {},
   "outputs": [
    {
     "name": "stdout",
     "output_type": "stream",
     "text": [
      "1.0\n",
      "Int64Index([3497, 3645], dtype='int64')\n"
     ]
    }
   ],
   "source": [
    "alpha = 0.01083\n",
    "beta = 0.01084\n",
    "drop12 = drop11 | save11\n",
    "mean, save12 = corr_mean(alpha , beta, drop12)\n",
    "print(mean)\n",
    "print(save12)"
   ]
  },
  {
   "cell_type": "code",
   "execution_count": 26,
   "metadata": {},
   "outputs": [
    {
     "name": "stdout",
     "output_type": "stream",
     "text": [
      "0.9984817507816726\n",
      "Int64Index([529, 3456, 4087], dtype='int64')\n"
     ]
    }
   ],
   "source": [
    "alpha = 0.01082\n",
    "beta = 0.01083\n",
    "drop13 = drop12 | save12\n",
    "mean, save13 = corr_mean(alpha , beta, drop13)\n",
    "print(mean)\n",
    "print(save13)"
   ]
  },
  {
   "cell_type": "code",
   "execution_count": 27,
   "metadata": {},
   "outputs": [
    {
     "name": "stdout",
     "output_type": "stream",
     "text": [
      "0.9404479726015302\n",
      "Int64Index([798, 3478, 5301], dtype='int64')\n"
     ]
    }
   ],
   "source": [
    "alpha = 0.01081\n",
    "beta = 0.01082\n",
    "drop14 = drop13 | save13\n",
    "mean, save14 = corr_mean(alpha , beta, drop14)\n",
    "print(mean)\n",
    "print(save14)"
   ]
  },
  {
   "cell_type": "code",
   "execution_count": 28,
   "metadata": {},
   "outputs": [
    {
     "name": "stdout",
     "output_type": "stream",
     "text": [
      "1.0\n",
      "Int64Index([1150, 1151], dtype='int64')\n"
     ]
    }
   ],
   "source": [
    "alpha = 0.379\n",
    "beta = 0.385\n",
    "drop15 = drop14 | save14\n",
    "mean, save15 = corr_mean(alpha , beta, drop15)\n",
    "print(mean)\n",
    "print(save15)"
   ]
  },
  {
   "cell_type": "code",
   "execution_count": 29,
   "metadata": {},
   "outputs": [
    {
     "name": "stdout",
     "output_type": "stream",
     "text": [
      "1.0\n",
      "Int64Index([1149, 1160], dtype='int64')\n"
     ]
    }
   ],
   "source": [
    "alpha = 0.355\n",
    "beta = 0.4\n",
    "drop16 = drop15 | save15\n",
    "mean, save16 = corr_mean(alpha , beta, drop16)\n",
    "print(mean)\n",
    "print(save16)"
   ]
  },
  {
   "cell_type": "markdown",
   "metadata": {},
   "source": [
    "Now we collected all our significant columns:"
   ]
  },
  {
   "cell_type": "code",
   "execution_count": 71,
   "metadata": {},
   "outputs": [],
   "source": [
    "#len(save13)"
   ]
  },
  {
   "cell_type": "code",
   "execution_count": 72,
   "metadata": {},
   "outputs": [],
   "source": [
    "#X_dataset_for_s16 = dataset[save13].values\n",
    "#y = dataset[5408].values.reshape([len(dataset), 1])\n",
    "#X_dataset_for_s16 = np.hstack((y, X_dataset_for_s16))\n",
    "#teta = (np.linalg.inv(X_dataset_for_s16.T.dot(X_dataset_for_s16))).dot(X_dataset_for_s16.T.dot(y))\n",
    "#test_out_teta_s16_dataset = X_dataset_for_s16.dot(teta)\n",
    "#print(teta)"
   ]
  },
  {
   "cell_type": "code",
   "execution_count": 56,
   "metadata": {},
   "outputs": [],
   "source": [
    "#from mpl_toolkits.mplot3d import Axes3D"
   ]
  },
  {
   "cell_type": "code",
   "execution_count": 73,
   "metadata": {},
   "outputs": [],
   "source": [
    "#fig = plt.figure()\n",
    "#ax = fig.add_subplot(111, projection='3d')\n",
    "#ax.scatter(xs = list(dataset[save].T.values[0]), ys = list(dataset[save].T.values[1]), zs = list(test_out_teta_s16_dataset))"
   ]
  },
  {
   "cell_type": "code",
   "execution_count": 74,
   "metadata": {},
   "outputs": [],
   "source": [
    "#plt.scatter(dataset[save].T.values[0], dataset[save].T.values[1])\n",
    "#plt.scatter(active[save].T.values[0], active[save].T.values[1], c=\"yellow\")"
   ]
  },
  {
   "cell_type": "code",
   "execution_count": 30,
   "metadata": {},
   "outputs": [],
   "source": [
    "res_for_s16_index = drop16 | save16"
   ]
  },
  {
   "cell_type": "code",
   "execution_count": 31,
   "metadata": {},
   "outputs": [
    {
     "name": "stdout",
     "output_type": "stream",
     "text": [
      "[19, 23, 66, 82, 99, 105, 113, 138, 142, 148, 150, 208, 225, 238, 241, 244, 248, 274, 297, 315, 336, 433, 438, 452, 466, 471, 475, 484, 495, 497, 529, 530, 559, 562, 567, 575, 577, 601, 606, 682, 707, 737, 770, 772, 798, 809, 824, 845, 893, 910, 927, 949, 957, 961, 989, 1031, 1063, 1132, 1149, 1150, 1151, 1160, 1229, 1269, 1342, 1349, 1380, 1383, 1405, 1407, 1420, 1421, 1431, 1451, 1460, 1486, 1514, 1519, 1538, 1540, 1545, 1547, 1682, 1701, 1702, 1763, 1789, 1796, 1839, 1883, 1905, 1937, 1939, 1988, 1993, 2014, 2053, 2067, 2081, 2089, 2091, 2104, 2105, 2132, 2185, 2226, 2254, 2288, 2293, 2311, 2313, 2348, 2351, 2354, 2358, 2388, 2411, 2421, 2429, 2520, 2568, 2592, 2594, 2601, 2613, 2625, 2697, 2714, 2720, 2747, 2755, 2764, 2829, 2864, 2940, 2966, 2984, 2997, 3007, 3233, 3261, 3293, 3300, 3301, 3336, 3348, 3365, 3429, 3455, 3456, 3462, 3477, 3478, 3491, 3497, 3502, 3645, 3693, 3727, 3728, 3761, 3792, 3886, 3944, 3948, 3949, 3985, 3996, 4058, 4087, 4091, 4123, 4124, 4133, 4148, 4187, 4190, 4193, 4202, 4219, 4248, 4278, 4343, 4358, 4408, 4415, 4426, 4544, 4567, 4589, 4770, 4801, 4892, 4973, 5002, 5008, 5016, 5086, 5098, 5190, 5196, 5274, 5293, 5301, 5314, 5335, 5348]\n"
     ]
    }
   ],
   "source": [
    "print(list(res_for_s16_index))"
   ]
  },
  {
   "cell_type": "code",
   "execution_count": 32,
   "metadata": {},
   "outputs": [
    {
     "data": {
      "text/plain": [
       "207"
      ]
     },
     "execution_count": 32,
     "metadata": {},
     "output_type": "execute_result"
    }
   ],
   "source": [
    "len(drop16 | save16)"
   ]
  },
  {
   "cell_type": "markdown",
   "metadata": {},
   "source": [
    "For this analysis was chosen simple linear regression model:"
   ]
  },
  {
   "cell_type": "code",
   "execution_count": 33,
   "metadata": {},
   "outputs": [],
   "source": [
    "X_dataset_for_s16 = dataset[drop16 | save16].drop_duplicates().values\n",
    "y = dataset[5408].values.reshape([len(dataset), 1])\n",
    "X_dataset_for_s16 = np.hstack((y, X_dataset_for_s16))\n",
    "theta = (np.linalg.inv(X_dataset_for_s16.T.dot(X_dataset_for_s16))).dot(X_dataset_for_s16.T.dot(y))"
   ]
  },
  {
   "cell_type": "markdown",
   "metadata": {},
   "source": [
    "Here shown that with this column we can devide our set with respect to output:"
   ]
  },
  {
   "cell_type": "code",
   "execution_count": 34,
   "metadata": {},
   "outputs": [
    {
     "name": "stdout",
     "output_type": "stream",
     "text": [
      "The length of all set is 4921 close guesses length set is 4921\n",
      "          inactive  active\n",
      "inactive      4885       0\n",
      "active           0      36\n"
     ]
    }
   ],
   "source": [
    "count = 0\n",
    "X_dataset_for_s16 = dataset[drop16 | save16].values\n",
    "y = dataset[5408].values.reshape([len(dataset), 1])\n",
    "X_dataset_for_s16 = np.hstack((y, X_dataset_for_s16))\n",
    "#Results obtained by linear regression:\n",
    "test_out_theta_s16_dataset = X_dataset_for_s16.dot(theta)\n",
    "\n",
    "for i in range(len(dataset)):\n",
    "    if math.isclose(test_out_theta_s16_dataset[i][0], y[i][0], abs_tol=1e-12):\n",
    "        count += 1\n",
    "print('The length of all set is', len(dataset), 'close guesses length set is', count)\n",
    "print(pd.DataFrame(confusion_matrix(test_out_theta_s16_dataset.round(), y), index=['inactive', 'active'], columns= ['inactive', 'active']))"
   ]
  },
  {
   "cell_type": "markdown",
   "metadata": {},
   "source": [
    "We can see significant drop in correlation:"
   ]
  },
  {
   "cell_type": "code",
   "execution_count": 35,
   "metadata": {},
   "outputs": [],
   "source": [
    "x = []\n",
    "y = []\n",
    "n = 100\n",
    "\n",
    "for i in range(n):\n",
    "    x.append((0.4)*i/n)\n",
    "    y.append(corr_mean((0.4)*i/n, drop = drop16 | save16)[0])"
   ]
  },
  {
   "cell_type": "code",
   "execution_count": 36,
   "metadata": {},
   "outputs": [
    {
     "data": {
      "text/plain": [
       "[<matplotlib.lines.Line2D at 0x52d6bcc0>]"
      ]
     },
     "execution_count": 36,
     "metadata": {},
     "output_type": "execute_result"
    },
    {
     "data": {
      "image/png": "[encoded data removed]",
      "text/plain": [
       "<Figure size 432x288 with 1 Axes>"
      ]
     },
     "metadata": {
      "needs_background": "light"
     },
     "output_type": "display_data"
    }
   ],
   "source": [
    "plt.plot(x,y)"
   ]
  },
  {
   "cell_type": "code",
   "execution_count": 37,
   "metadata": {},
   "outputs": [],
   "source": [
    "x = []\n",
    "y = []\n",
    "n = 100\n",
    "\n",
    "for i in range(n):\n",
    "    x.append((0.4)*i/n)\n",
    "    y.append(corr_mean(0, (0.4)*i/n, drop16 | save16)[0])"
   ]
  },
  {
   "cell_type": "code",
   "execution_count": 38,
   "metadata": {},
   "outputs": [
    {
     "data": {
      "text/plain": [
       "[<matplotlib.lines.Line2D at 0x503594a8>]"
      ]
     },
     "execution_count": 38,
     "metadata": {},
     "output_type": "execute_result"
    },
    {
     "data": {
      "image/png": "[encoded data removed]",
      "text/plain": [
       "<Figure size 432x288 with 1 Axes>"
      ]
     },
     "metadata": {
      "needs_background": "light"
     },
     "output_type": "display_data"
    }
   ],
   "source": [
    "plt.plot(x,y)"
   ]
  },
  {
   "cell_type": "code",
   "execution_count": 39,
   "metadata": {},
   "outputs": [],
   "source": [
    "X_dataset_for_s16 = dataset.drop(drop16 | save16, axis = 1).values\n",
    "y = dataset[5408].values.reshape([len(dataset), 1])\n",
    "X_dataset_for_s16 = np.hstack((y, X_dataset_for_s16))\n",
    "teta = (np.linalg.inv(X_dataset_for_s16.T.dot(X_dataset_for_s16))).dot(X_dataset_for_s16.T.dot(y))"
   ]
  },
  {
   "cell_type": "code",
   "execution_count": 40,
   "metadata": {},
   "outputs": [
    {
     "name": "stdout",
     "output_type": "stream",
     "text": [
      "The length of all set is 4921 close guesses length set is 6\n"
     ]
    }
   ],
   "source": [
    "count = 0\n",
    "X_dataset_for_s16 = dataset.drop(drop16 | save16, axis = 1).values\n",
    "y = dataset[5408].values.reshape([len(dataset), 1])\n",
    "X_dataset_for_s16 = np.hstack((y, X_dataset_for_s16))\n",
    "#Results obtained by linear regression:\n",
    "test_out_teta_s16_dataset = X_dataset_for_s16.dot(teta)\n",
    "\n",
    "for i in range(len(dataset)):\n",
    "    if math.isclose(test_out_teta_s16_dataset[i][0], y[i][0], abs_tol=1e-1):\n",
    "        count += 1\n",
    "print('The length of all set is', len(dataset), 'close guesses length set is', count)"
   ]
  },
  {
   "cell_type": "markdown",
   "metadata": {},
   "source": [
    "# Higher degree solutions "
   ]
  },
  {
   "cell_type": "markdown",
   "metadata": {},
   "source": [
    "## Test section"
   ]
  },
  {
   "cell_type": "code",
   "execution_count": 121,
   "metadata": {},
   "outputs": [],
   "source": [
    "test = pd.DataFrame([[2, 3, 4, 5], [4, 5, 6, 7]])\n",
    "test1 = pd.DataFrame([[2], [3]])"
   ]
  },
  {
   "cell_type": "code",
   "execution_count": 122,
   "metadata": {},
   "outputs": [],
   "source": [
    "#join test and test1 side by side and renew indexes above\n",
    "test2 = test.reset_index(drop=True).merge(test1.reset_index(drop=True), left_index=True, right_index=True).T.reset_index(drop=True).T"
   ]
  },
  {
   "cell_type": "code",
   "execution_count": 123,
   "metadata": {},
   "outputs": [
    {
     "data": {
      "text/html": [
       "<div>\n",
       "<style scoped>\n",
       "    .dataframe tbody tr th:only-of-type {\n",
       "        vertical-align: middle;\n",
       "    }\n",
       "\n",
       "    .dataframe tbody tr th {\n",
       "        vertical-align: top;\n",
       "    }\n",
       "\n",
       "    .dataframe thead th {\n",
       "        text-align: right;\n",
       "    }\n",
       "</style>\n",
       "<table border=\"1\" class=\"dataframe\">\n",
       "  <thead>\n",
       "    <tr style=\"text-align: right;\">\n",
       "      <th></th>\n",
       "      <th>0</th>\n",
       "      <th>1</th>\n",
       "      <th>2</th>\n",
       "      <th>3</th>\n",
       "      <th>4</th>\n",
       "    </tr>\n",
       "  </thead>\n",
       "  <tbody>\n",
       "    <tr>\n",
       "      <th>0</th>\n",
       "      <td>2</td>\n",
       "      <td>3</td>\n",
       "      <td>4</td>\n",
       "      <td>5</td>\n",
       "      <td>2</td>\n",
       "    </tr>\n",
       "    <tr>\n",
       "      <th>1</th>\n",
       "      <td>4</td>\n",
       "      <td>5</td>\n",
       "      <td>6</td>\n",
       "      <td>7</td>\n",
       "      <td>3</td>\n",
       "    </tr>\n",
       "  </tbody>\n",
       "</table>\n",
       "</div>"
      ],
      "text/plain": [
       "   0  1  2  3  4\n",
       "0  2  3  4  5  2\n",
       "1  4  5  6  7  3"
      ]
     },
     "execution_count": 123,
     "metadata": {},
     "output_type": "execute_result"
    }
   ],
   "source": [
    "test2"
   ]
  },
  {
   "cell_type": "code",
   "execution_count": 124,
   "metadata": {},
   "outputs": [],
   "source": [
    "test_pow_2 = test.reset_index(drop=True).merge(test.pow(2).reset_index(drop=True), left_index=True, right_index=True).T.reset_index(drop=True).T"
   ]
  },
  {
   "cell_type": "code",
   "execution_count": 125,
   "metadata": {},
   "outputs": [
    {
     "data": {
      "text/html": [
       "<div>\n",
       "<style scoped>\n",
       "    .dataframe tbody tr th:only-of-type {\n",
       "        vertical-align: middle;\n",
       "    }\n",
       "\n",
       "    .dataframe tbody tr th {\n",
       "        vertical-align: top;\n",
       "    }\n",
       "\n",
       "    .dataframe thead th {\n",
       "        text-align: right;\n",
       "    }\n",
       "</style>\n",
       "<table border=\"1\" class=\"dataframe\">\n",
       "  <thead>\n",
       "    <tr style=\"text-align: right;\">\n",
       "      <th></th>\n",
       "      <th>0</th>\n",
       "      <th>1</th>\n",
       "      <th>2</th>\n",
       "      <th>3</th>\n",
       "      <th>4</th>\n",
       "      <th>5</th>\n",
       "      <th>6</th>\n",
       "      <th>7</th>\n",
       "    </tr>\n",
       "  </thead>\n",
       "  <tbody>\n",
       "    <tr>\n",
       "      <th>0</th>\n",
       "      <td>2</td>\n",
       "      <td>3</td>\n",
       "      <td>4</td>\n",
       "      <td>5</td>\n",
       "      <td>4</td>\n",
       "      <td>9</td>\n",
       "      <td>16</td>\n",
       "      <td>25</td>\n",
       "    </tr>\n",
       "    <tr>\n",
       "      <th>1</th>\n",
       "      <td>4</td>\n",
       "      <td>5</td>\n",
       "      <td>6</td>\n",
       "      <td>7</td>\n",
       "      <td>16</td>\n",
       "      <td>25</td>\n",
       "      <td>36</td>\n",
       "      <td>49</td>\n",
       "    </tr>\n",
       "  </tbody>\n",
       "</table>\n",
       "</div>"
      ],
      "text/plain": [
       "   0  1  2  3   4   5   6   7\n",
       "0  2  3  4  5   4   9  16  25\n",
       "1  4  5  6  7  16  25  36  49"
      ]
     },
     "execution_count": 125,
     "metadata": {},
     "output_type": "execute_result"
    }
   ],
   "source": [
    "test_pow_2"
   ]
  },
  {
   "cell_type": "code",
   "execution_count": 78,
   "metadata": {},
   "outputs": [
    {
     "data": {
      "text/html": [
       "<div>\n",
       "<style scoped>\n",
       "    .dataframe tbody tr th:only-of-type {\n",
       "        vertical-align: middle;\n",
       "    }\n",
       "\n",
       "    .dataframe tbody tr th {\n",
       "        vertical-align: top;\n",
       "    }\n",
       "\n",
       "    .dataframe thead th {\n",
       "        text-align: right;\n",
       "    }\n",
       "</style>\n",
       "<table border=\"1\" class=\"dataframe\">\n",
       "  <thead>\n",
       "    <tr style=\"text-align: right;\">\n",
       "      <th></th>\n",
       "      <th>0</th>\n",
       "    </tr>\n",
       "  </thead>\n",
       "  <tbody>\n",
       "    <tr>\n",
       "      <th>0</th>\n",
       "      <td>4</td>\n",
       "    </tr>\n",
       "    <tr>\n",
       "      <th>1</th>\n",
       "      <td>12</td>\n",
       "    </tr>\n",
       "  </tbody>\n",
       "</table>\n",
       "</div>"
      ],
      "text/plain": [
       "    0\n",
       "0   4\n",
       "1  12"
      ]
     },
     "execution_count": 78,
     "metadata": {},
     "output_type": "execute_result"
    }
   ],
   "source": [
    "test.iloc[:,0:1].multiply(test1)"
   ]
  },
  {
   "cell_type": "code",
   "execution_count": 128,
   "metadata": {},
   "outputs": [
    {
     "name": "stdout",
     "output_type": "stream",
     "text": [
      "1   0\n",
      "2   0\n",
      "2   1\n",
      "3   0\n",
      "3   1\n",
      "3   2\n"
     ]
    }
   ],
   "source": [
    "for i in test.T.index:\n",
    "    for j in range(len(test.T.index)):\n",
    "        if i > j:\n",
    "            print(i, \" \", j)"
   ]
  },
  {
   "cell_type": "code",
   "execution_count": 112,
   "metadata": {},
   "outputs": [
    {
     "data": {
      "text/html": [
       "<div>\n",
       "<style scoped>\n",
       "    .dataframe tbody tr th:only-of-type {\n",
       "        vertical-align: middle;\n",
       "    }\n",
       "\n",
       "    .dataframe tbody tr th {\n",
       "        vertical-align: top;\n",
       "    }\n",
       "\n",
       "    .dataframe thead th {\n",
       "        text-align: right;\n",
       "    }\n",
       "</style>\n",
       "<table border=\"1\" class=\"dataframe\">\n",
       "  <thead>\n",
       "    <tr style=\"text-align: right;\">\n",
       "      <th></th>\n",
       "      <th>0</th>\n",
       "    </tr>\n",
       "  </thead>\n",
       "  <tbody>\n",
       "    <tr>\n",
       "      <th>0</th>\n",
       "      <td>4</td>\n",
       "    </tr>\n",
       "    <tr>\n",
       "      <th>1</th>\n",
       "      <td>6</td>\n",
       "    </tr>\n",
       "  </tbody>\n",
       "</table>\n",
       "</div>"
      ],
      "text/plain": [
       "   0\n",
       "0  4\n",
       "1  6"
      ]
     },
     "execution_count": 112,
     "metadata": {},
     "output_type": "execute_result"
    }
   ],
   "source": [
    "test.iloc[:,j:j + 1].T.reset_index(drop=True).T"
   ]
  },
  {
   "cell_type": "code",
   "execution_count": 126,
   "metadata": {},
   "outputs": [],
   "source": [
    "for i in test.T.index:\n",
    "    for j in range(len(test.T.index)):\n",
    "        if i > j:\n",
    "            test_pow_2 = test_pow_2.reset_index(drop=True).merge(test.iloc[:,j:j + 1].T.reset_index(drop=True).T.multiply(test.iloc[:,i:i + 1].T.reset_index(drop=True).T).reset_index(drop=True), left_index=True, right_index=True).T.reset_index(drop=True).T"
   ]
  },
  {
   "cell_type": "code",
   "execution_count": 127,
   "metadata": {},
   "outputs": [
    {
     "data": {
      "text/html": [
       "<div>\n",
       "<style scoped>\n",
       "    .dataframe tbody tr th:only-of-type {\n",
       "        vertical-align: middle;\n",
       "    }\n",
       "\n",
       "    .dataframe tbody tr th {\n",
       "        vertical-align: top;\n",
       "    }\n",
       "\n",
       "    .dataframe thead th {\n",
       "        text-align: right;\n",
       "    }\n",
       "</style>\n",
       "<table border=\"1\" class=\"dataframe\">\n",
       "  <thead>\n",
       "    <tr style=\"text-align: right;\">\n",
       "      <th></th>\n",
       "      <th>0</th>\n",
       "      <th>1</th>\n",
       "      <th>2</th>\n",
       "      <th>3</th>\n",
       "      <th>4</th>\n",
       "      <th>5</th>\n",
       "      <th>6</th>\n",
       "      <th>7</th>\n",
       "      <th>8</th>\n",
       "      <th>9</th>\n",
       "      <th>10</th>\n",
       "      <th>11</th>\n",
       "      <th>12</th>\n",
       "      <th>13</th>\n",
       "    </tr>\n",
       "  </thead>\n",
       "  <tbody>\n",
       "    <tr>\n",
       "      <th>0</th>\n",
       "      <td>2</td>\n",
       "      <td>3</td>\n",
       "      <td>4</td>\n",
       "      <td>5</td>\n",
       "      <td>4</td>\n",
       "      <td>9</td>\n",
       "      <td>16</td>\n",
       "      <td>25</td>\n",
       "      <td>6</td>\n",
       "      <td>8</td>\n",
       "      <td>12</td>\n",
       "      <td>10</td>\n",
       "      <td>15</td>\n",
       "      <td>20</td>\n",
       "    </tr>\n",
       "    <tr>\n",
       "      <th>1</th>\n",
       "      <td>4</td>\n",
       "      <td>5</td>\n",
       "      <td>6</td>\n",
       "      <td>7</td>\n",
       "      <td>16</td>\n",
       "      <td>25</td>\n",
       "      <td>36</td>\n",
       "      <td>49</td>\n",
       "      <td>20</td>\n",
       "      <td>24</td>\n",
       "      <td>30</td>\n",
       "      <td>28</td>\n",
       "      <td>35</td>\n",
       "      <td>42</td>\n",
       "    </tr>\n",
       "  </tbody>\n",
       "</table>\n",
       "</div>"
      ],
      "text/plain": [
       "   0   1   2   3   4   5   6   7   8   9   10  11  12  13\n",
       "0   2   3   4   5   4   9  16  25   6   8  12  10  15  20\n",
       "1   4   5   6   7  16  25  36  49  20  24  30  28  35  42"
      ]
     },
     "execution_count": 127,
     "metadata": {},
     "output_type": "execute_result"
    }
   ],
   "source": [
    "test_pow_2"
   ]
  },
  {
   "cell_type": "markdown",
   "metadata": {},
   "source": [
    "## Creation of an expanded to the second degree matrix"
   ]
  },
  {
   "cell_type": "code",
   "execution_count": 8,
   "metadata": {},
   "outputs": [],
   "source": [
    "matrix_of_parameters = dataset.iloc[13:17,:].drop(5408, axis=1)"
   ]
  },
  {
   "cell_type": "code",
   "execution_count": 55,
   "metadata": {},
   "outputs": [],
   "source": [
    "#matrix_of_parameters.pow(2)"
   ]
  },
  {
   "cell_type": "code",
   "execution_count": 9,
   "metadata": {},
   "outputs": [],
   "source": [
    "matrix_of_parameters_second_degree = matrix_of_parameters\n",
    "\n",
    "matrix_of_parameters_second_degree = matrix_of_parameters_second_degree.reset_index(drop=True).merge(matrix_of_parameters_second_degree.pow(2).reset_index(drop=True), left_index=True, right_index=True).T.reset_index(drop=True).T"
   ]
  },
  {
   "cell_type": "code",
   "execution_count": 10,
   "metadata": {},
   "outputs": [
    {
     "ename": "KeyboardInterrupt",
     "evalue": "",
     "output_type": "error",
     "traceback": [
      "\u001b[1;31m---------------------------------------------------------------------------\u001b[0m",
      "\u001b[1;31mKeyboardInterrupt\u001b[0m                         Traceback (most recent call last)",
      "\u001b[1;32m<ipython-input-10-e525f63d4766>\u001b[0m in \u001b[0;36m<module>\u001b[1;34m\u001b[0m\n\u001b[0;32m      6\u001b[0m     \u001b[1;32mfor\u001b[0m \u001b[0mj\u001b[0m \u001b[1;32min\u001b[0m \u001b[0mrange\u001b[0m\u001b[1;33m(\u001b[0m\u001b[0mlen\u001b[0m\u001b[1;33m(\u001b[0m\u001b[0mmatrix_of_parameters\u001b[0m\u001b[1;33m.\u001b[0m\u001b[0mT\u001b[0m\u001b[1;33m.\u001b[0m\u001b[0mindex\u001b[0m\u001b[1;33m)\u001b[0m\u001b[1;33m)\u001b[0m\u001b[1;33m:\u001b[0m\u001b[1;33m\u001b[0m\u001b[1;33m\u001b[0m\u001b[0m\n\u001b[0;32m      7\u001b[0m         \u001b[1;32mif\u001b[0m \u001b[0mi\u001b[0m \u001b[1;33m>\u001b[0m \u001b[0mj\u001b[0m\u001b[1;33m:\u001b[0m\u001b[1;33m\u001b[0m\u001b[1;33m\u001b[0m\u001b[0m\n\u001b[1;32m----> 8\u001b[1;33m             \u001b[0mmatrix_of_parameters_second_degree\u001b[0m \u001b[1;33m=\u001b[0m \u001b[0mmatrix_of_parameters_second_degree\u001b[0m\u001b[1;33m.\u001b[0m\u001b[0mreset_index\u001b[0m\u001b[1;33m(\u001b[0m\u001b[0mdrop\u001b[0m\u001b[1;33m=\u001b[0m\u001b[1;32mTrue\u001b[0m\u001b[1;33m)\u001b[0m\u001b[1;33m.\u001b[0m\u001b[0mmerge\u001b[0m\u001b[1;33m(\u001b[0m\u001b[0mmatrix_of_parameters\u001b[0m\u001b[1;33m.\u001b[0m\u001b[0miloc\u001b[0m\u001b[1;33m[\u001b[0m\u001b[1;33m:\u001b[0m\u001b[1;33m,\u001b[0m\u001b[0mj\u001b[0m\u001b[1;33m:\u001b[0m\u001b[0mj\u001b[0m \u001b[1;33m+\u001b[0m \u001b[1;36m1\u001b[0m\u001b[1;33m]\u001b[0m\u001b[1;33m.\u001b[0m\u001b[0mT\u001b[0m\u001b[1;33m.\u001b[0m\u001b[0mreset_index\u001b[0m\u001b[1;33m(\u001b[0m\u001b[0mdrop\u001b[0m\u001b[1;33m=\u001b[0m\u001b[1;32mTrue\u001b[0m\u001b[1;33m)\u001b[0m\u001b[1;33m.\u001b[0m\u001b[0mT\u001b[0m\u001b[1;33m.\u001b[0m\u001b[0mmultiply\u001b[0m\u001b[1;33m(\u001b[0m\u001b[0mmatrix_of_parameters\u001b[0m\u001b[1;33m.\u001b[0m\u001b[0miloc\u001b[0m\u001b[1;33m[\u001b[0m\u001b[1;33m:\u001b[0m\u001b[1;33m,\u001b[0m\u001b[0mi\u001b[0m\u001b[1;33m:\u001b[0m\u001b[0mi\u001b[0m \u001b[1;33m+\u001b[0m \u001b[1;36m1\u001b[0m\u001b[1;33m]\u001b[0m\u001b[1;33m.\u001b[0m\u001b[0mT\u001b[0m\u001b[1;33m.\u001b[0m\u001b[0mreset_index\u001b[0m\u001b[1;33m(\u001b[0m\u001b[0mdrop\u001b[0m\u001b[1;33m=\u001b[0m\u001b[1;32mTrue\u001b[0m\u001b[1;33m)\u001b[0m\u001b[1;33m.\u001b[0m\u001b[0mT\u001b[0m\u001b[1;33m)\u001b[0m\u001b[1;33m.\u001b[0m\u001b[0mreset_index\u001b[0m\u001b[1;33m(\u001b[0m\u001b[0mdrop\u001b[0m\u001b[1;33m=\u001b[0m\u001b[1;32mTrue\u001b[0m\u001b[1;33m)\u001b[0m\u001b[1;33m,\u001b[0m \u001b[0mleft_index\u001b[0m\u001b[1;33m=\u001b[0m\u001b[1;32mTrue\u001b[0m\u001b[1;33m,\u001b[0m \u001b[0mright_index\u001b[0m\u001b[1;33m=\u001b[0m\u001b[1;32mTrue\u001b[0m\u001b[1;33m)\u001b[0m\u001b[1;33m.\u001b[0m\u001b[0mT\u001b[0m\u001b[1;33m.\u001b[0m\u001b[0mreset_index\u001b[0m\u001b[1;33m(\u001b[0m\u001b[0mdrop\u001b[0m\u001b[1;33m=\u001b[0m\u001b[1;32mTrue\u001b[0m\u001b[1;33m)\u001b[0m\u001b[1;33m.\u001b[0m\u001b[0mT\u001b[0m\u001b[1;33m\u001b[0m\u001b[1;33m\u001b[0m\u001b[0m\n\u001b[0m",
      "\u001b[1;32m~\\Anaconda3\\lib\\site-packages\\pandas\\core\\frame.py\u001b[0m in \u001b[0;36mmerge\u001b[1;34m(self, right, how, on, left_on, right_on, left_index, right_index, sort, suffixes, copy, indicator, validate)\u001b[0m\n\u001b[0;32m   6866\u001b[0m                      \u001b[0mright_on\u001b[0m\u001b[1;33m=\u001b[0m\u001b[0mright_on\u001b[0m\u001b[1;33m,\u001b[0m \u001b[0mleft_index\u001b[0m\u001b[1;33m=\u001b[0m\u001b[0mleft_index\u001b[0m\u001b[1;33m,\u001b[0m\u001b[1;33m\u001b[0m\u001b[1;33m\u001b[0m\u001b[0m\n\u001b[0;32m   6867\u001b[0m                      \u001b[0mright_index\u001b[0m\u001b[1;33m=\u001b[0m\u001b[0mright_index\u001b[0m\u001b[1;33m,\u001b[0m \u001b[0msort\u001b[0m\u001b[1;33m=\u001b[0m\u001b[0msort\u001b[0m\u001b[1;33m,\u001b[0m \u001b[0msuffixes\u001b[0m\u001b[1;33m=\u001b[0m\u001b[0msuffixes\u001b[0m\u001b[1;33m,\u001b[0m\u001b[1;33m\u001b[0m\u001b[1;33m\u001b[0m\u001b[0m\n\u001b[1;32m-> 6868\u001b[1;33m                      copy=copy, indicator=indicator, validate=validate)\n\u001b[0m\u001b[0;32m   6869\u001b[0m \u001b[1;33m\u001b[0m\u001b[0m\n\u001b[0;32m   6870\u001b[0m     \u001b[1;32mdef\u001b[0m \u001b[0mround\u001b[0m\u001b[1;33m(\u001b[0m\u001b[0mself\u001b[0m\u001b[1;33m,\u001b[0m \u001b[0mdecimals\u001b[0m\u001b[1;33m=\u001b[0m\u001b[1;36m0\u001b[0m\u001b[1;33m,\u001b[0m \u001b[1;33m*\u001b[0m\u001b[0margs\u001b[0m\u001b[1;33m,\u001b[0m \u001b[1;33m**\u001b[0m\u001b[0mkwargs\u001b[0m\u001b[1;33m)\u001b[0m\u001b[1;33m:\u001b[0m\u001b[1;33m\u001b[0m\u001b[1;33m\u001b[0m\u001b[0m\n",
      "\u001b[1;32m~\\Anaconda3\\lib\\site-packages\\pandas\\core\\reshape\\merge.py\u001b[0m in \u001b[0;36mmerge\u001b[1;34m(left, right, how, on, left_on, right_on, left_index, right_index, sort, suffixes, copy, indicator, validate)\u001b[0m\n\u001b[0;32m     46\u001b[0m                          \u001b[0mcopy\u001b[0m\u001b[1;33m=\u001b[0m\u001b[0mcopy\u001b[0m\u001b[1;33m,\u001b[0m \u001b[0mindicator\u001b[0m\u001b[1;33m=\u001b[0m\u001b[0mindicator\u001b[0m\u001b[1;33m,\u001b[0m\u001b[1;33m\u001b[0m\u001b[1;33m\u001b[0m\u001b[0m\n\u001b[0;32m     47\u001b[0m                          validate=validate)\n\u001b[1;32m---> 48\u001b[1;33m     \u001b[1;32mreturn\u001b[0m \u001b[0mop\u001b[0m\u001b[1;33m.\u001b[0m\u001b[0mget_result\u001b[0m\u001b[1;33m(\u001b[0m\u001b[1;33m)\u001b[0m\u001b[1;33m\u001b[0m\u001b[1;33m\u001b[0m\u001b[0m\n\u001b[0m\u001b[0;32m     49\u001b[0m \u001b[1;33m\u001b[0m\u001b[0m\n\u001b[0;32m     50\u001b[0m \u001b[1;33m\u001b[0m\u001b[0m\n",
      "\u001b[1;32m~\\Anaconda3\\lib\\site-packages\\pandas\\core\\reshape\\merge.py\u001b[0m in \u001b[0;36mget_result\u001b[1;34m(self)\u001b[0m\n\u001b[0;32m    550\u001b[0m \u001b[1;33m\u001b[0m\u001b[0m\n\u001b[0;32m    551\u001b[0m         llabels, rlabels = items_overlap_with_suffix(ldata.items, lsuf,\n\u001b[1;32m--> 552\u001b[1;33m                                                      rdata.items, rsuf)\n\u001b[0m\u001b[0;32m    553\u001b[0m \u001b[1;33m\u001b[0m\u001b[0m\n\u001b[0;32m    554\u001b[0m         \u001b[0mlindexers\u001b[0m \u001b[1;33m=\u001b[0m \u001b[1;33m{\u001b[0m\u001b[1;36m1\u001b[0m\u001b[1;33m:\u001b[0m \u001b[0mleft_indexer\u001b[0m\u001b[1;33m}\u001b[0m \u001b[1;32mif\u001b[0m \u001b[0mleft_indexer\u001b[0m \u001b[1;32mis\u001b[0m \u001b[1;32mnot\u001b[0m \u001b[1;32mNone\u001b[0m \u001b[1;32melse\u001b[0m \u001b[1;33m{\u001b[0m\u001b[1;33m}\u001b[0m\u001b[1;33m\u001b[0m\u001b[1;33m\u001b[0m\u001b[0m\n",
      "\u001b[1;32m~\\Anaconda3\\lib\\site-packages\\pandas\\core\\internals\\managers.py\u001b[0m in \u001b[0;36mitems_overlap_with_suffix\u001b[1;34m(left, lsuffix, right, rsuffix)\u001b[0m\n\u001b[0;32m   1982\u001b[0m             \u001b[1;32mreturn\u001b[0m \u001b[0mx\u001b[0m\u001b[1;33m\u001b[0m\u001b[1;33m\u001b[0m\u001b[0m\n\u001b[0;32m   1983\u001b[0m \u001b[1;33m\u001b[0m\u001b[0m\n\u001b[1;32m-> 1984\u001b[1;33m         return (_transform_index(left, lrenamer),\n\u001b[0m\u001b[0;32m   1985\u001b[0m                 _transform_index(right, rrenamer))\n\u001b[0;32m   1986\u001b[0m \u001b[1;33m\u001b[0m\u001b[0m\n",
      "\u001b[1;32m~\\Anaconda3\\lib\\site-packages\\pandas\\core\\internals\\managers.py\u001b[0m in \u001b[0;36m_transform_index\u001b[1;34m(index, func, level)\u001b[0m\n\u001b[0;32m   2002\u001b[0m         \u001b[1;32mreturn\u001b[0m \u001b[0mMultiIndex\u001b[0m\u001b[1;33m.\u001b[0m\u001b[0mfrom_tuples\u001b[0m\u001b[1;33m(\u001b[0m\u001b[0mitems\u001b[0m\u001b[1;33m,\u001b[0m \u001b[0mnames\u001b[0m\u001b[1;33m=\u001b[0m\u001b[0mindex\u001b[0m\u001b[1;33m.\u001b[0m\u001b[0mnames\u001b[0m\u001b[1;33m)\u001b[0m\u001b[1;33m\u001b[0m\u001b[1;33m\u001b[0m\u001b[0m\n\u001b[0;32m   2003\u001b[0m     \u001b[1;32melse\u001b[0m\u001b[1;33m:\u001b[0m\u001b[1;33m\u001b[0m\u001b[1;33m\u001b[0m\u001b[0m\n\u001b[1;32m-> 2004\u001b[1;33m         \u001b[0mitems\u001b[0m \u001b[1;33m=\u001b[0m \u001b[1;33m[\u001b[0m\u001b[0mfunc\u001b[0m\u001b[1;33m(\u001b[0m\u001b[0mx\u001b[0m\u001b[1;33m)\u001b[0m \u001b[1;32mfor\u001b[0m \u001b[0mx\u001b[0m \u001b[1;32min\u001b[0m \u001b[0mindex\u001b[0m\u001b[1;33m]\u001b[0m\u001b[1;33m\u001b[0m\u001b[1;33m\u001b[0m\u001b[0m\n\u001b[0m\u001b[0;32m   2005\u001b[0m         \u001b[1;32mreturn\u001b[0m \u001b[0mIndex\u001b[0m\u001b[1;33m(\u001b[0m\u001b[0mitems\u001b[0m\u001b[1;33m,\u001b[0m \u001b[0mname\u001b[0m\u001b[1;33m=\u001b[0m\u001b[0mindex\u001b[0m\u001b[1;33m.\u001b[0m\u001b[0mname\u001b[0m\u001b[1;33m,\u001b[0m \u001b[0mtupleize_cols\u001b[0m\u001b[1;33m=\u001b[0m\u001b[1;32mFalse\u001b[0m\u001b[1;33m)\u001b[0m\u001b[1;33m\u001b[0m\u001b[1;33m\u001b[0m\u001b[0m\n\u001b[0;32m   2006\u001b[0m \u001b[1;33m\u001b[0m\u001b[0m\n",
      "\u001b[1;32m~\\Anaconda3\\lib\\site-packages\\pandas\\core\\internals\\managers.py\u001b[0m in \u001b[0;36m<listcomp>\u001b[1;34m(.0)\u001b[0m\n\u001b[0;32m   2002\u001b[0m         \u001b[1;32mreturn\u001b[0m \u001b[0mMultiIndex\u001b[0m\u001b[1;33m.\u001b[0m\u001b[0mfrom_tuples\u001b[0m\u001b[1;33m(\u001b[0m\u001b[0mitems\u001b[0m\u001b[1;33m,\u001b[0m \u001b[0mnames\u001b[0m\u001b[1;33m=\u001b[0m\u001b[0mindex\u001b[0m\u001b[1;33m.\u001b[0m\u001b[0mnames\u001b[0m\u001b[1;33m)\u001b[0m\u001b[1;33m\u001b[0m\u001b[1;33m\u001b[0m\u001b[0m\n\u001b[0;32m   2003\u001b[0m     \u001b[1;32melse\u001b[0m\u001b[1;33m:\u001b[0m\u001b[1;33m\u001b[0m\u001b[1;33m\u001b[0m\u001b[0m\n\u001b[1;32m-> 2004\u001b[1;33m         \u001b[0mitems\u001b[0m \u001b[1;33m=\u001b[0m \u001b[1;33m[\u001b[0m\u001b[0mfunc\u001b[0m\u001b[1;33m(\u001b[0m\u001b[0mx\u001b[0m\u001b[1;33m)\u001b[0m \u001b[1;32mfor\u001b[0m \u001b[0mx\u001b[0m \u001b[1;32min\u001b[0m \u001b[0mindex\u001b[0m\u001b[1;33m]\u001b[0m\u001b[1;33m\u001b[0m\u001b[1;33m\u001b[0m\u001b[0m\n\u001b[0m\u001b[0;32m   2005\u001b[0m         \u001b[1;32mreturn\u001b[0m \u001b[0mIndex\u001b[0m\u001b[1;33m(\u001b[0m\u001b[0mitems\u001b[0m\u001b[1;33m,\u001b[0m \u001b[0mname\u001b[0m\u001b[1;33m=\u001b[0m\u001b[0mindex\u001b[0m\u001b[1;33m.\u001b[0m\u001b[0mname\u001b[0m\u001b[1;33m,\u001b[0m \u001b[0mtupleize_cols\u001b[0m\u001b[1;33m=\u001b[0m\u001b[1;32mFalse\u001b[0m\u001b[1;33m)\u001b[0m\u001b[1;33m\u001b[0m\u001b[1;33m\u001b[0m\u001b[0m\n\u001b[0;32m   2006\u001b[0m \u001b[1;33m\u001b[0m\u001b[0m\n",
      "\u001b[1;31mKeyboardInterrupt\u001b[0m: "
     ]
    }
   ],
   "source": [
    "#Read cell below, before running this cell in a full scale \n",
    "\n",
    "#count = 0\n",
    "\n",
    "for i in matrix_of_parameters.T.index:\n",
    "    for j in range(len(matrix_of_parameters.T.index)):\n",
    "        if i > j:\n",
    "            #matrix_of_parameters_second_degree = matrix_of_parameters_second_degree.reset_index(drop=True).merge(matrix_of_parameters.iloc[:,j:j + 1].T.reset_index(drop=True).T.multiply(matrix_of_parameters.iloc[:,i:i + 1].T.reset_index(drop=True).T).reset_index(drop=True), left_index=True, right_index=True).T.reset_index(drop=True).T"
   ]
  },
  {
   "cell_type": "code",
   "execution_count": 138,
   "metadata": {},
   "outputs": [
    {
     "data": {
      "text/plain": [
       "0.233928448"
      ]
     },
     "execution_count": 138,
     "metadata": {},
     "output_type": "execute_result"
    }
   ],
   "source": [
    "#(count*4*4)/(10**9) #Gigabytes need to run code above"
   ]
  },
  {
   "cell_type": "code",
   "execution_count": 11,
   "metadata": {},
   "outputs": [
    {
     "data": {
      "text/html": [
       "<div>\n",
       "<style scoped>\n",
       "    .dataframe tbody tr th:only-of-type {\n",
       "        vertical-align: middle;\n",
       "    }\n",
       "\n",
       "    .dataframe tbody tr th {\n",
       "        vertical-align: top;\n",
       "    }\n",
       "\n",
       "    .dataframe thead th {\n",
       "        text-align: right;\n",
       "    }\n",
       "</style>\n",
       "<table border=\"1\" class=\"dataframe\">\n",
       "  <thead>\n",
       "    <tr style=\"text-align: right;\">\n",
       "      <th></th>\n",
       "      <th>0</th>\n",
       "      <th>1</th>\n",
       "      <th>2</th>\n",
       "      <th>3</th>\n",
       "      <th>4</th>\n",
       "      <th>5</th>\n",
       "      <th>6</th>\n",
       "      <th>7</th>\n",
       "      <th>8</th>\n",
       "      <th>9</th>\n",
       "      <th>...</th>\n",
       "      <th>174496</th>\n",
       "      <th>174497</th>\n",
       "      <th>174498</th>\n",
       "      <th>174499</th>\n",
       "      <th>174500</th>\n",
       "      <th>174501</th>\n",
       "      <th>174502</th>\n",
       "      <th>174503</th>\n",
       "      <th>174504</th>\n",
       "      <th>174505</th>\n",
       "    </tr>\n",
       "  </thead>\n",
       "  <tbody>\n",
       "    <tr>\n",
       "      <th>0</th>\n",
       "      <td>-0.153</td>\n",
       "      <td>0.010</td>\n",
       "      <td>-0.017</td>\n",
       "      <td>-0.012</td>\n",
       "      <td>0.004</td>\n",
       "      <td>-0.112</td>\n",
       "      <td>0.004</td>\n",
       "      <td>0.002</td>\n",
       "      <td>-0.002</td>\n",
       "      <td>0.007</td>\n",
       "      <td>...</td>\n",
       "      <td>-0.000120</td>\n",
       "      <td>0.000960</td>\n",
       "      <td>-0.005880</td>\n",
       "      <td>-0.001200</td>\n",
       "      <td>-0.000240</td>\n",
       "      <td>0.001200</td>\n",
       "      <td>0.000240</td>\n",
       "      <td>-0.000120</td>\n",
       "      <td>-0.000000</td>\n",
       "      <td>-0.001080</td>\n",
       "    </tr>\n",
       "    <tr>\n",
       "      <th>1</th>\n",
       "      <td>-0.153</td>\n",
       "      <td>0.006</td>\n",
       "      <td>-0.011</td>\n",
       "      <td>-0.010</td>\n",
       "      <td>-0.000</td>\n",
       "      <td>-0.119</td>\n",
       "      <td>0.003</td>\n",
       "      <td>-0.000</td>\n",
       "      <td>-0.005</td>\n",
       "      <td>0.004</td>\n",
       "      <td>...</td>\n",
       "      <td>-0.002088</td>\n",
       "      <td>0.000580</td>\n",
       "      <td>0.000232</td>\n",
       "      <td>-0.000812</td>\n",
       "      <td>-0.005336</td>\n",
       "      <td>0.000928</td>\n",
       "      <td>-0.000580</td>\n",
       "      <td>-0.000580</td>\n",
       "      <td>-0.001508</td>\n",
       "      <td>-0.000232</td>\n",
       "    </tr>\n",
       "    <tr>\n",
       "      <th>2</th>\n",
       "      <td>-3.272</td>\n",
       "      <td>-0.168</td>\n",
       "      <td>0.113</td>\n",
       "      <td>0.064</td>\n",
       "      <td>0.057</td>\n",
       "      <td>-0.050</td>\n",
       "      <td>0.084</td>\n",
       "      <td>0.097</td>\n",
       "      <td>0.089</td>\n",
       "      <td>-0.078</td>\n",
       "      <td>...</td>\n",
       "      <td>-0.001554</td>\n",
       "      <td>0.067599</td>\n",
       "      <td>-0.005772</td>\n",
       "      <td>0.001332</td>\n",
       "      <td>-0.003774</td>\n",
       "      <td>0.001443</td>\n",
       "      <td>-0.000888</td>\n",
       "      <td>-0.001332</td>\n",
       "      <td>0.005772</td>\n",
       "      <td>0.000333</td>\n",
       "    </tr>\n",
       "    <tr>\n",
       "      <th>3</th>\n",
       "      <td>-0.141</td>\n",
       "      <td>0.035</td>\n",
       "      <td>-0.015</td>\n",
       "      <td>0.023</td>\n",
       "      <td>0.059</td>\n",
       "      <td>-0.143</td>\n",
       "      <td>-0.018</td>\n",
       "      <td>-0.006</td>\n",
       "      <td>-0.010</td>\n",
       "      <td>0.018</td>\n",
       "      <td>...</td>\n",
       "      <td>0.000214</td>\n",
       "      <td>0.065805</td>\n",
       "      <td>-0.006313</td>\n",
       "      <td>0.002033</td>\n",
       "      <td>-0.001391</td>\n",
       "      <td>0.003210</td>\n",
       "      <td>0.000535</td>\n",
       "      <td>0.000642</td>\n",
       "      <td>0.007062</td>\n",
       "      <td>0.001712</td>\n",
       "    </tr>\n",
       "  </tbody>\n",
       "</table>\n",
       "<p>4 rows × 174506 columns</p>\n",
       "</div>"
      ],
      "text/plain": [
       "   0       1       2       3       4       5       6       7       8       \\\n",
       "0  -0.153   0.010  -0.017  -0.012   0.004  -0.112   0.004   0.002  -0.002   \n",
       "1  -0.153   0.006  -0.011  -0.010  -0.000  -0.119   0.003  -0.000  -0.005   \n",
       "2  -3.272  -0.168   0.113   0.064   0.057  -0.050   0.084   0.097   0.089   \n",
       "3  -0.141   0.035  -0.015   0.023   0.059  -0.143  -0.018  -0.006  -0.010   \n",
       "\n",
       "   9       ...    174496    174497    174498    174499    174500    174501  \\\n",
       "0   0.007  ... -0.000120  0.000960 -0.005880 -0.001200 -0.000240  0.001200   \n",
       "1   0.004  ... -0.002088  0.000580  0.000232 -0.000812 -0.005336  0.000928   \n",
       "2  -0.078  ... -0.001554  0.067599 -0.005772  0.001332 -0.003774  0.001443   \n",
       "3   0.018  ...  0.000214  0.065805 -0.006313  0.002033 -0.001391  0.003210   \n",
       "\n",
       "     174502    174503    174504    174505  \n",
       "0  0.000240 -0.000120 -0.000000 -0.001080  \n",
       "1 -0.000580 -0.000580 -0.001508 -0.000232  \n",
       "2 -0.000888 -0.001332  0.005772  0.000333  \n",
       "3  0.000535  0.000642  0.007062  0.001712  \n",
       "\n",
       "[4 rows x 174506 columns]"
      ]
     },
     "execution_count": 11,
     "metadata": {},
     "output_type": "execute_result"
    }
   ],
   "source": [
    "matrix_of_parameters_second_degree"
   ]
  },
  {
   "cell_type": "code",
   "execution_count": 16,
   "metadata": {},
   "outputs": [],
   "source": [
    "dataset_second_degree = matrix_of_parameters_second_degree.reset_index(drop=True).merge(dataset.iloc[13:17,5408:].reset_index(drop=True), left_index=True, right_index=True).T.reset_index(drop=True).T"
   ]
  },
  {
   "cell_type": "code",
   "execution_count": 40,
   "metadata": {},
   "outputs": [
    {
     "data": {
      "text/html": [
       "<div>\n",
       "<style scoped>\n",
       "    .dataframe tbody tr th:only-of-type {\n",
       "        vertical-align: middle;\n",
       "    }\n",
       "\n",
       "    .dataframe tbody tr th {\n",
       "        vertical-align: top;\n",
       "    }\n",
       "\n",
       "    .dataframe thead th {\n",
       "        text-align: right;\n",
       "    }\n",
       "</style>\n",
       "<table border=\"1\" class=\"dataframe\">\n",
       "  <thead>\n",
       "    <tr style=\"text-align: right;\">\n",
       "      <th></th>\n",
       "      <th>0</th>\n",
       "      <th>1</th>\n",
       "      <th>2</th>\n",
       "      <th>3</th>\n",
       "      <th>4</th>\n",
       "      <th>5</th>\n",
       "      <th>6</th>\n",
       "      <th>7</th>\n",
       "      <th>8</th>\n",
       "      <th>9</th>\n",
       "      <th>...</th>\n",
       "      <th>174497</th>\n",
       "      <th>174498</th>\n",
       "      <th>174499</th>\n",
       "      <th>174500</th>\n",
       "      <th>174501</th>\n",
       "      <th>174502</th>\n",
       "      <th>174503</th>\n",
       "      <th>174504</th>\n",
       "      <th>174505</th>\n",
       "      <th>174506</th>\n",
       "    </tr>\n",
       "  </thead>\n",
       "  <tbody>\n",
       "    <tr>\n",
       "      <th>0</th>\n",
       "      <td>-0.153</td>\n",
       "      <td>0.010</td>\n",
       "      <td>-0.017</td>\n",
       "      <td>-0.012</td>\n",
       "      <td>0.004</td>\n",
       "      <td>-0.112</td>\n",
       "      <td>0.004</td>\n",
       "      <td>0.002</td>\n",
       "      <td>-0.002</td>\n",
       "      <td>0.007</td>\n",
       "      <td>...</td>\n",
       "      <td>0.000960</td>\n",
       "      <td>-0.005880</td>\n",
       "      <td>-0.001200</td>\n",
       "      <td>-0.000240</td>\n",
       "      <td>0.001200</td>\n",
       "      <td>0.000240</td>\n",
       "      <td>-0.000120</td>\n",
       "      <td>-0.000000</td>\n",
       "      <td>-0.001080</td>\n",
       "      <td>0.0</td>\n",
       "    </tr>\n",
       "    <tr>\n",
       "      <th>1</th>\n",
       "      <td>-0.153</td>\n",
       "      <td>0.006</td>\n",
       "      <td>-0.011</td>\n",
       "      <td>-0.010</td>\n",
       "      <td>-0.000</td>\n",
       "      <td>-0.119</td>\n",
       "      <td>0.003</td>\n",
       "      <td>-0.000</td>\n",
       "      <td>-0.005</td>\n",
       "      <td>0.004</td>\n",
       "      <td>...</td>\n",
       "      <td>0.000580</td>\n",
       "      <td>0.000232</td>\n",
       "      <td>-0.000812</td>\n",
       "      <td>-0.005336</td>\n",
       "      <td>0.000928</td>\n",
       "      <td>-0.000580</td>\n",
       "      <td>-0.000580</td>\n",
       "      <td>-0.001508</td>\n",
       "      <td>-0.000232</td>\n",
       "      <td>0.0</td>\n",
       "    </tr>\n",
       "    <tr>\n",
       "      <th>2</th>\n",
       "      <td>-3.272</td>\n",
       "      <td>-0.168</td>\n",
       "      <td>0.113</td>\n",
       "      <td>0.064</td>\n",
       "      <td>0.057</td>\n",
       "      <td>-0.050</td>\n",
       "      <td>0.084</td>\n",
       "      <td>0.097</td>\n",
       "      <td>0.089</td>\n",
       "      <td>-0.078</td>\n",
       "      <td>...</td>\n",
       "      <td>0.067599</td>\n",
       "      <td>-0.005772</td>\n",
       "      <td>0.001332</td>\n",
       "      <td>-0.003774</td>\n",
       "      <td>0.001443</td>\n",
       "      <td>-0.000888</td>\n",
       "      <td>-0.001332</td>\n",
       "      <td>0.005772</td>\n",
       "      <td>0.000333</td>\n",
       "      <td>1.0</td>\n",
       "    </tr>\n",
       "    <tr>\n",
       "      <th>3</th>\n",
       "      <td>-0.141</td>\n",
       "      <td>0.035</td>\n",
       "      <td>-0.015</td>\n",
       "      <td>0.023</td>\n",
       "      <td>0.059</td>\n",
       "      <td>-0.143</td>\n",
       "      <td>-0.018</td>\n",
       "      <td>-0.006</td>\n",
       "      <td>-0.010</td>\n",
       "      <td>0.018</td>\n",
       "      <td>...</td>\n",
       "      <td>0.065805</td>\n",
       "      <td>-0.006313</td>\n",
       "      <td>0.002033</td>\n",
       "      <td>-0.001391</td>\n",
       "      <td>0.003210</td>\n",
       "      <td>0.000535</td>\n",
       "      <td>0.000642</td>\n",
       "      <td>0.007062</td>\n",
       "      <td>0.001712</td>\n",
       "      <td>1.0</td>\n",
       "    </tr>\n",
       "  </tbody>\n",
       "</table>\n",
       "<p>4 rows × 174507 columns</p>\n",
       "</div>"
      ],
      "text/plain": [
       "   0       1       2       3       4       5       6       7       8       \\\n",
       "0  -0.153   0.010  -0.017  -0.012   0.004  -0.112   0.004   0.002  -0.002   \n",
       "1  -0.153   0.006  -0.011  -0.010  -0.000  -0.119   0.003  -0.000  -0.005   \n",
       "2  -3.272  -0.168   0.113   0.064   0.057  -0.050   0.084   0.097   0.089   \n",
       "3  -0.141   0.035  -0.015   0.023   0.059  -0.143  -0.018  -0.006  -0.010   \n",
       "\n",
       "   9       ...    174497    174498    174499    174500    174501    174502  \\\n",
       "0   0.007  ...  0.000960 -0.005880 -0.001200 -0.000240  0.001200  0.000240   \n",
       "1   0.004  ...  0.000580  0.000232 -0.000812 -0.005336  0.000928 -0.000580   \n",
       "2  -0.078  ...  0.067599 -0.005772  0.001332 -0.003774  0.001443 -0.000888   \n",
       "3   0.018  ...  0.065805 -0.006313  0.002033 -0.001391  0.003210  0.000535   \n",
       "\n",
       "     174503    174504    174505  174506  \n",
       "0 -0.000120 -0.000000 -0.001080     0.0  \n",
       "1 -0.000580 -0.001508 -0.000232     0.0  \n",
       "2 -0.001332  0.005772  0.000333     1.0  \n",
       "3  0.000642  0.007062  0.001712     1.0  \n",
       "\n",
       "[4 rows x 174507 columns]"
      ]
     },
     "execution_count": 40,
     "metadata": {},
     "output_type": "execute_result"
    }
   ],
   "source": [
    "dataset_second_degree"
   ]
  },
  {
   "cell_type": "code",
   "execution_count": 36,
   "metadata": {},
   "outputs": [],
   "source": [
    "length_dataset_second_degree = len(dataset_second_degree.T)"
   ]
  },
  {
   "cell_type": "code",
   "execution_count": 37,
   "metadata": {},
   "outputs": [
    {
     "data": {
      "text/plain": [
       "174507"
      ]
     },
     "execution_count": 37,
     "metadata": {},
     "output_type": "execute_result"
    }
   ],
   "source": [
    "length_dataset_second_degree"
   ]
  },
  {
   "cell_type": "code",
   "execution_count": 42,
   "metadata": {},
   "outputs": [
    {
     "data": {
      "text/plain": [
       "0    0.0\n",
       "1    0.0\n",
       "2    1.0\n",
       "3    1.0\n",
       "Name: 174506, dtype: float64"
      ]
     },
     "execution_count": 42,
     "metadata": {},
     "output_type": "execute_result"
    }
   ],
   "source": [
    "test"
   ]
  },
  {
   "cell_type": "code",
   "execution_count": 43,
   "metadata": {},
   "outputs": [
    {
     "ename": "ValueError",
     "evalue": "columns overlap but no suffix specified: Int64Index([174506], dtype='int64')",
     "output_type": "error",
     "traceback": [
      "\u001b[1;31m---------------------------------------------------------------------------\u001b[0m",
      "\u001b[1;31mValueError\u001b[0m                                Traceback (most recent call last)",
      "\u001b[1;32m<ipython-input-43-d6016b5d8d0c>\u001b[0m in \u001b[0;36m<module>\u001b[1;34m\u001b[0m\n\u001b[0;32m      4\u001b[0m \u001b[1;33m\u001b[0m\u001b[0m\n\u001b[0;32m      5\u001b[0m \u001b[1;32mfor\u001b[0m \u001b[0mi\u001b[0m \u001b[1;32min\u001b[0m \u001b[0mrange\u001b[0m\u001b[1;33m(\u001b[0m\u001b[0mlength_dataset_second_degree\u001b[0m\u001b[1;33m)\u001b[0m\u001b[1;33m:\u001b[0m\u001b[1;33m\u001b[0m\u001b[1;33m\u001b[0m\u001b[0m\n\u001b[1;32m----> 6\u001b[1;33m     \u001b[0mcorr_with_res_sd\u001b[0m\u001b[1;33m.\u001b[0m\u001b[0mappend\u001b[0m\u001b[1;33m(\u001b[0m\u001b[1;33m(\u001b[0m\u001b[0mtest\u001b[0m\u001b[1;33m.\u001b[0m\u001b[0mjoin\u001b[0m\u001b[1;33m(\u001b[0m\u001b[0mdataset_second_degree\u001b[0m\u001b[1;33m[\u001b[0m\u001b[0mi\u001b[0m\u001b[1;33m]\u001b[0m\u001b[1;33m)\u001b[0m\u001b[1;33m)\u001b[0m\u001b[1;33m.\u001b[0m\u001b[0mastype\u001b[0m\u001b[1;33m(\u001b[0m\u001b[0mfloat\u001b[0m\u001b[1;33m)\u001b[0m\u001b[1;33m.\u001b[0m\u001b[0mcorr\u001b[0m\u001b[1;33m(\u001b[0m\u001b[1;33m)\u001b[0m\u001b[1;33m[\u001b[0m\u001b[0mlength_dataset_second_degree\u001b[0m \u001b[1;33m-\u001b[0m \u001b[1;36m1\u001b[0m\u001b[1;33m]\u001b[0m\u001b[1;33m[\u001b[0m\u001b[0mi\u001b[0m\u001b[1;33m]\u001b[0m\u001b[1;33m)\u001b[0m\u001b[1;33m\u001b[0m\u001b[1;33m\u001b[0m\u001b[0m\n\u001b[0m\u001b[0;32m      7\u001b[0m \u001b[1;33m\u001b[0m\u001b[0m\n\u001b[0;32m      8\u001b[0m \u001b[0mwhole_corr\u001b[0m \u001b[1;33m=\u001b[0m \u001b[0mpd\u001b[0m\u001b[1;33m.\u001b[0m\u001b[0mDataFrame\u001b[0m\u001b[1;33m(\u001b[0m\u001b[0mcorr_with_res_sd\u001b[0m\u001b[1;33m)\u001b[0m\u001b[1;33m\u001b[0m\u001b[1;33m\u001b[0m\u001b[0m\n",
      "\u001b[1;32m~\\Anaconda3\\lib\\site-packages\\pandas\\core\\frame.py\u001b[0m in \u001b[0;36mjoin\u001b[1;34m(self, other, on, how, lsuffix, rsuffix, sort)\u001b[0m\n\u001b[0;32m   6813\u001b[0m         \u001b[1;31m# For SparseDataFrame's benefit\u001b[0m\u001b[1;33m\u001b[0m\u001b[1;33m\u001b[0m\u001b[1;33m\u001b[0m\u001b[0m\n\u001b[0;32m   6814\u001b[0m         return self._join_compat(other, on=on, how=how, lsuffix=lsuffix,\n\u001b[1;32m-> 6815\u001b[1;33m                                  rsuffix=rsuffix, sort=sort)\n\u001b[0m\u001b[0;32m   6816\u001b[0m \u001b[1;33m\u001b[0m\u001b[0m\n\u001b[0;32m   6817\u001b[0m     def _join_compat(self, other, on=None, how='left', lsuffix='', rsuffix='',\n",
      "\u001b[1;32m~\\Anaconda3\\lib\\site-packages\\pandas\\core\\frame.py\u001b[0m in \u001b[0;36m_join_compat\u001b[1;34m(self, other, on, how, lsuffix, rsuffix, sort)\u001b[0m\n\u001b[0;32m   6828\u001b[0m             return merge(self, other, left_on=on, how=how,\n\u001b[0;32m   6829\u001b[0m                          \u001b[0mleft_index\u001b[0m\u001b[1;33m=\u001b[0m\u001b[0mon\u001b[0m \u001b[1;32mis\u001b[0m \u001b[1;32mNone\u001b[0m\u001b[1;33m,\u001b[0m \u001b[0mright_index\u001b[0m\u001b[1;33m=\u001b[0m\u001b[1;32mTrue\u001b[0m\u001b[1;33m,\u001b[0m\u001b[1;33m\u001b[0m\u001b[1;33m\u001b[0m\u001b[0m\n\u001b[1;32m-> 6830\u001b[1;33m                          suffixes=(lsuffix, rsuffix), sort=sort)\n\u001b[0m\u001b[0;32m   6831\u001b[0m         \u001b[1;32melse\u001b[0m\u001b[1;33m:\u001b[0m\u001b[1;33m\u001b[0m\u001b[1;33m\u001b[0m\u001b[0m\n\u001b[0;32m   6832\u001b[0m             \u001b[1;32mif\u001b[0m \u001b[0mon\u001b[0m \u001b[1;32mis\u001b[0m \u001b[1;32mnot\u001b[0m \u001b[1;32mNone\u001b[0m\u001b[1;33m:\u001b[0m\u001b[1;33m\u001b[0m\u001b[1;33m\u001b[0m\u001b[0m\n",
      "\u001b[1;32m~\\Anaconda3\\lib\\site-packages\\pandas\\core\\reshape\\merge.py\u001b[0m in \u001b[0;36mmerge\u001b[1;34m(left, right, how, on, left_on, right_on, left_index, right_index, sort, suffixes, copy, indicator, validate)\u001b[0m\n\u001b[0;32m     46\u001b[0m                          \u001b[0mcopy\u001b[0m\u001b[1;33m=\u001b[0m\u001b[0mcopy\u001b[0m\u001b[1;33m,\u001b[0m \u001b[0mindicator\u001b[0m\u001b[1;33m=\u001b[0m\u001b[0mindicator\u001b[0m\u001b[1;33m,\u001b[0m\u001b[1;33m\u001b[0m\u001b[1;33m\u001b[0m\u001b[0m\n\u001b[0;32m     47\u001b[0m                          validate=validate)\n\u001b[1;32m---> 48\u001b[1;33m     \u001b[1;32mreturn\u001b[0m \u001b[0mop\u001b[0m\u001b[1;33m.\u001b[0m\u001b[0mget_result\u001b[0m\u001b[1;33m(\u001b[0m\u001b[1;33m)\u001b[0m\u001b[1;33m\u001b[0m\u001b[1;33m\u001b[0m\u001b[0m\n\u001b[0m\u001b[0;32m     49\u001b[0m \u001b[1;33m\u001b[0m\u001b[0m\n\u001b[0;32m     50\u001b[0m \u001b[1;33m\u001b[0m\u001b[0m\n",
      "\u001b[1;32m~\\Anaconda3\\lib\\site-packages\\pandas\\core\\reshape\\merge.py\u001b[0m in \u001b[0;36mget_result\u001b[1;34m(self)\u001b[0m\n\u001b[0;32m    550\u001b[0m \u001b[1;33m\u001b[0m\u001b[0m\n\u001b[0;32m    551\u001b[0m         llabels, rlabels = items_overlap_with_suffix(ldata.items, lsuf,\n\u001b[1;32m--> 552\u001b[1;33m                                                      rdata.items, rsuf)\n\u001b[0m\u001b[0;32m    553\u001b[0m \u001b[1;33m\u001b[0m\u001b[0m\n\u001b[0;32m    554\u001b[0m         \u001b[0mlindexers\u001b[0m \u001b[1;33m=\u001b[0m \u001b[1;33m{\u001b[0m\u001b[1;36m1\u001b[0m\u001b[1;33m:\u001b[0m \u001b[0mleft_indexer\u001b[0m\u001b[1;33m}\u001b[0m \u001b[1;32mif\u001b[0m \u001b[0mleft_indexer\u001b[0m \u001b[1;32mis\u001b[0m \u001b[1;32mnot\u001b[0m \u001b[1;32mNone\u001b[0m \u001b[1;32melse\u001b[0m \u001b[1;33m{\u001b[0m\u001b[1;33m}\u001b[0m\u001b[1;33m\u001b[0m\u001b[1;33m\u001b[0m\u001b[0m\n",
      "\u001b[1;32m~\\Anaconda3\\lib\\site-packages\\pandas\\core\\internals\\managers.py\u001b[0m in \u001b[0;36mitems_overlap_with_suffix\u001b[1;34m(left, lsuffix, right, rsuffix)\u001b[0m\n\u001b[0;32m   1970\u001b[0m         \u001b[1;32mif\u001b[0m \u001b[1;32mnot\u001b[0m \u001b[0mlsuffix\u001b[0m \u001b[1;32mand\u001b[0m \u001b[1;32mnot\u001b[0m \u001b[0mrsuffix\u001b[0m\u001b[1;33m:\u001b[0m\u001b[1;33m\u001b[0m\u001b[1;33m\u001b[0m\u001b[0m\n\u001b[0;32m   1971\u001b[0m             raise ValueError('columns overlap but no suffix specified: '\n\u001b[1;32m-> 1972\u001b[1;33m                              '{rename}'.format(rename=to_rename))\n\u001b[0m\u001b[0;32m   1973\u001b[0m \u001b[1;33m\u001b[0m\u001b[0m\n\u001b[0;32m   1974\u001b[0m         \u001b[1;32mdef\u001b[0m \u001b[0mlrenamer\u001b[0m\u001b[1;33m(\u001b[0m\u001b[0mx\u001b[0m\u001b[1;33m)\u001b[0m\u001b[1;33m:\u001b[0m\u001b[1;33m\u001b[0m\u001b[1;33m\u001b[0m\u001b[0m\n",
      "\u001b[1;31mValueError\u001b[0m: columns overlap but no suffix specified: Int64Index([174506], dtype='int64')"
     ]
    }
   ],
   "source": [
    "corr_with_res_sd = []\n",
    "#Output column extraction:\n",
    "test = pd.DataFrame(dataset_second_degree[length_dataset_second_degree - 1])\n",
    "\n",
    "for i in range(length_dataset_second_degree - 1):\n",
    "    corr_with_res_sd.append((test.join(dataset_second_degree[i])).astype(float).corr()[length_dataset_second_degree - 1][i])\n",
    "\n",
    "whole_corr_sd = pd.DataFrame(corr_with_res_sd)"
   ]
  },
  {
   "cell_type": "code",
   "execution_count": 47,
   "metadata": {},
   "outputs": [],
   "source": [
    "whole_corr_sd = pd.DataFrame(corr_with_res_sd)"
   ]
  },
  {
   "cell_type": "code",
   "execution_count": 51,
   "metadata": {},
   "outputs": [],
   "source": [
    "def corr_mean(alpha = 0, beta = 0.4, drop = pd.Index([])):\n",
    "    signif_col = (whole_corr_sd[whole_corr_sd[0].abs() > alpha].index & whole_corr_sd[whole_corr_sd[0].abs() < beta].index).difference(drop)\n",
    "    dataset_second_degree_signif = dataset_second_degree[signif_col]\n",
    "    dataset_second_degree_signif_corr = dataset_second_degree_signif.T.astype(float).corr()\n",
    "    mean = 0\n",
    "\n",
    "    for i in range(len(dataset_second_degree_signif_corr) - 1):\n",
    "        sum_row_corr = dataset_second_degree_signif_corr.iloc[i:i+1,i+1:].T.abs().sum().values[0]\n",
    "        mean += sum_row_corr\n",
    "    mean = mean/(((len(dataset_second_degree_signif_corr) - 1)*len(dataset_second_degree_signif_corr))/2)\n",
    "    return mean, signif_col"
   ]
  },
  {
   "cell_type": "markdown",
   "metadata": {},
   "source": [
    "In the next four cells we draw our data for increasing and decreasing significance respectively, to see where valuable indexes are:"
   ]
  },
  {
   "cell_type": "code",
   "execution_count": 52,
   "metadata": {},
   "outputs": [],
   "source": [
    "x = []\n",
    "y = []\n",
    "n = 100\n",
    "\n",
    "for i in range(n):\n",
    "    x.append((0.4)*i/n)\n",
    "    y.append(corr_mean((0.4)*i/n)[0])"
   ]
  },
  {
   "cell_type": "code",
   "execution_count": 53,
   "metadata": {},
   "outputs": [
    {
     "data": {
      "text/plain": [
       "[<matplotlib.lines.Line2D at 0x6735ba20>]"
      ]
     },
     "execution_count": 53,
     "metadata": {},
     "output_type": "execute_result"
    },
    {
     "data": {
      "image/png": "[encoded data removed]",
      "text/plain": [
       "<Figure size 432x288 with 1 Axes>"
      ]
     },
     "metadata": {
      "needs_background": "light"
     },
     "output_type": "display_data"
    }
   ],
   "source": [
    "plt.plot(x,y)"
   ]
  },
  {
   "cell_type": "code",
   "execution_count": 54,
   "metadata": {},
   "outputs": [],
   "source": [
    "x = []\n",
    "y = []\n",
    "n = 100\n",
    "\n",
    "for i in range(n):\n",
    "    x.append((0.4)*i/n)\n",
    "    y.append(corr_mean(0, (0.4)*i/n)[0])"
   ]
  },
  {
   "cell_type": "code",
   "execution_count": 55,
   "metadata": {},
   "outputs": [
    {
     "data": {
      "text/plain": [
       "[<matplotlib.lines.Line2D at 0x64eb43c8>]"
      ]
     },
     "execution_count": 55,
     "metadata": {},
     "output_type": "execute_result"
    },
    {
     "data": {
      "image/png": "[encoded data removed]",
      "text/plain": [
       "<Figure size 432x288 with 1 Axes>"
      ]
     },
     "metadata": {
      "needs_background": "light"
     },
     "output_type": "display_data"
    }
   ],
   "source": [
    "plt.plot(x,y)"
   ]
  },
  {
   "cell_type": "markdown",
   "metadata": {},
   "source": [
    "In the next seventy cells we used so called 'How to catch a lion in the Sahara desert' method to find $alpha$ and $beta$ that gave us high level of coreletion on our rows, than we droped this indexes and restart process:"
   ]
  },
  {
   "cell_type": "code",
   "execution_count": 67,
   "metadata": {},
   "outputs": [
    {
     "name": "stdout",
     "output_type": "stream",
     "text": [
      "0.988075799801576\n",
      "Int64Index([   518,   1343,   1919,   3984,   4035,   5128,   6208,   6268,\n",
      "              7460,   8518,\n",
      "            ...\n",
      "            168660, 169159, 170177, 171998, 172023, 172096, 172200, 173479,\n",
      "            173662, 174077],\n",
      "           dtype='int64', length=330)\n"
     ]
    }
   ],
   "source": [
    "alpha = 0.224999999\n",
    "beta = 0.225\n",
    "mean_sd, save_sd = corr_mean(alpha = 0.22 , beta = 0.225)\n",
    "print(mean_sd)\n",
    "print(save_sd)"
   ]
  },
  {
   "cell_type": "code",
   "execution_count": 68,
   "metadata": {},
   "outputs": [
    {
     "data": {
      "text/plain": [
       "330"
      ]
     },
     "execution_count": 68,
     "metadata": {},
     "output_type": "execute_result"
    }
   ],
   "source": [
    "len(save_sd)"
   ]
  },
  {
   "cell_type": "code",
   "execution_count": 70,
   "metadata": {},
   "outputs": [],
   "source": [
    "temp = dataset_second_degree[save_sd].corr()"
   ]
  },
  {
   "cell_type": "code",
   "execution_count": 72,
   "metadata": {},
   "outputs": [
    {
     "data": {
      "text/html": [
       "<div>\n",
       "<style scoped>\n",
       "    .dataframe tbody tr th:only-of-type {\n",
       "        vertical-align: middle;\n",
       "    }\n",
       "\n",
       "    .dataframe tbody tr th {\n",
       "        vertical-align: top;\n",
       "    }\n",
       "\n",
       "    .dataframe thead th {\n",
       "        text-align: right;\n",
       "    }\n",
       "</style>\n",
       "<table border=\"1\" class=\"dataframe\">\n",
       "  <thead>\n",
       "    <tr style=\"text-align: right;\">\n",
       "      <th></th>\n",
       "      <th>518</th>\n",
       "      <th>1343</th>\n",
       "      <th>1919</th>\n",
       "      <th>3984</th>\n",
       "      <th>4035</th>\n",
       "      <th>5128</th>\n",
       "      <th>6208</th>\n",
       "      <th>6268</th>\n",
       "      <th>7460</th>\n",
       "      <th>8518</th>\n",
       "      <th>...</th>\n",
       "      <th>168660</th>\n",
       "      <th>169159</th>\n",
       "      <th>170177</th>\n",
       "      <th>171998</th>\n",
       "      <th>172023</th>\n",
       "      <th>172096</th>\n",
       "      <th>172200</th>\n",
       "      <th>173479</th>\n",
       "      <th>173662</th>\n",
       "      <th>174077</th>\n",
       "    </tr>\n",
       "  </thead>\n",
       "  <tbody>\n",
       "    <tr>\n",
       "      <th>44509</th>\n",
       "      <td>0.950154</td>\n",
       "      <td>0.612063</td>\n",
       "      <td>-0.215327</td>\n",
       "      <td>-0.853885</td>\n",
       "      <td>0.600461</td>\n",
       "      <td>0.215327</td>\n",
       "      <td>0.077639</td>\n",
       "      <td>-0.329483</td>\n",
       "      <td>-0.807049</td>\n",
       "      <td>0.298798</td>\n",
       "      <td>...</td>\n",
       "      <td>-0.618589</td>\n",
       "      <td>0.379347</td>\n",
       "      <td>0.998120</td>\n",
       "      <td>0.256494</td>\n",
       "      <td>-0.993205</td>\n",
       "      <td>0.240916</td>\n",
       "      <td>-0.129094</td>\n",
       "      <td>-0.339867</td>\n",
       "      <td>-0.367081</td>\n",
       "      <td>0.890698</td>\n",
       "    </tr>\n",
       "    <tr>\n",
       "      <th>80918</th>\n",
       "      <td>0.883850</td>\n",
       "      <td>0.470580</td>\n",
       "      <td>-0.369820</td>\n",
       "      <td>-0.892010</td>\n",
       "      <td>0.711275</td>\n",
       "      <td>0.369820</td>\n",
       "      <td>0.241514</td>\n",
       "      <td>-0.482500</td>\n",
       "      <td>-0.723765</td>\n",
       "      <td>0.447226</td>\n",
       "      <td>...</td>\n",
       "      <td>-0.741785</td>\n",
       "      <td>0.528637</td>\n",
       "      <td>0.994121</td>\n",
       "      <td>0.413867</td>\n",
       "      <td>-0.959257</td>\n",
       "      <td>0.399193</td>\n",
       "      <td>-0.291733</td>\n",
       "      <td>-0.492076</td>\n",
       "      <td>-0.213262</td>\n",
       "      <td>0.853848</td>\n",
       "    </tr>\n",
       "    <tr>\n",
       "      <th>83202</th>\n",
       "      <td>0.930828</td>\n",
       "      <td>0.566011</td>\n",
       "      <td>-0.269188</td>\n",
       "      <td>-0.871145</td>\n",
       "      <td>0.641180</td>\n",
       "      <td>0.269188</td>\n",
       "      <td>0.132288</td>\n",
       "      <td>-0.381523</td>\n",
       "      <td>-0.783208</td>\n",
       "      <td>0.350951</td>\n",
       "      <td>...</td>\n",
       "      <td>-0.661757</td>\n",
       "      <td>0.430327</td>\n",
       "      <td>0.999986</td>\n",
       "      <td>0.309689</td>\n",
       "      <td>-0.984960</td>\n",
       "      <td>0.294365</td>\n",
       "      <td>-0.183542</td>\n",
       "      <td>-0.391663</td>\n",
       "      <td>-0.317652</td>\n",
       "      <td>0.882847</td>\n",
       "    </tr>\n",
       "    <tr>\n",
       "      <th>83573</th>\n",
       "      <td>0.971200</td>\n",
       "      <td>0.670211</td>\n",
       "      <td>-0.143905</td>\n",
       "      <td>-0.829512</td>\n",
       "      <td>0.545399</td>\n",
       "      <td>0.143905</td>\n",
       "      <td>0.002116</td>\n",
       "      <td>-0.256643</td>\n",
       "      <td>-0.838140</td>\n",
       "      <td>0.229376</td>\n",
       "      <td>...</td>\n",
       "      <td>-0.556679</td>\n",
       "      <td>0.307745</td>\n",
       "      <td>0.990490</td>\n",
       "      <td>0.182323</td>\n",
       "      <td>-0.999197</td>\n",
       "      <td>0.166482</td>\n",
       "      <td>-0.053674</td>\n",
       "      <td>-0.267292</td>\n",
       "      <td>-0.434075</td>\n",
       "      <td>0.899990</td>\n",
       "    </tr>\n",
       "    <tr>\n",
       "      <th>86225</th>\n",
       "      <td>0.924039</td>\n",
       "      <td>0.551193</td>\n",
       "      <td>-0.285212</td>\n",
       "      <td>-0.874492</td>\n",
       "      <td>0.652414</td>\n",
       "      <td>0.285212</td>\n",
       "      <td>0.150507</td>\n",
       "      <td>-0.398506</td>\n",
       "      <td>-0.773474</td>\n",
       "      <td>0.366307</td>\n",
       "      <td>...</td>\n",
       "      <td>-0.675469</td>\n",
       "      <td>0.446903</td>\n",
       "      <td>0.999903</td>\n",
       "      <td>0.327166</td>\n",
       "      <td>-0.981649</td>\n",
       "      <td>0.311934</td>\n",
       "      <td>-0.201613</td>\n",
       "      <td>-0.408566</td>\n",
       "      <td>-0.300418</td>\n",
       "      <td>0.878102</td>\n",
       "    </tr>\n",
       "    <tr>\n",
       "      <th>86670</th>\n",
       "      <td>0.960501</td>\n",
       "      <td>0.639132</td>\n",
       "      <td>-0.182929</td>\n",
       "      <td>-0.843669</td>\n",
       "      <td>0.575925</td>\n",
       "      <td>0.182929</td>\n",
       "      <td>0.042851</td>\n",
       "      <td>-0.296161</td>\n",
       "      <td>-0.822254</td>\n",
       "      <td>0.267393</td>\n",
       "      <td>...</td>\n",
       "      <td>-0.590548</td>\n",
       "      <td>0.346638</td>\n",
       "      <td>0.995346</td>\n",
       "      <td>0.222491</td>\n",
       "      <td>-0.996681</td>\n",
       "      <td>0.206781</td>\n",
       "      <td>-0.094401</td>\n",
       "      <td>-0.306674</td>\n",
       "      <td>-0.398362</td>\n",
       "      <td>0.895972</td>\n",
       "    </tr>\n",
       "    <tr>\n",
       "      <th>91798</th>\n",
       "      <td>0.965709</td>\n",
       "      <td>0.653901</td>\n",
       "      <td>-0.164276</td>\n",
       "      <td>-0.836467</td>\n",
       "      <td>0.561151</td>\n",
       "      <td>0.164276</td>\n",
       "      <td>0.024295</td>\n",
       "      <td>-0.278112</td>\n",
       "      <td>-0.829048</td>\n",
       "      <td>0.249195</td>\n",
       "      <td>...</td>\n",
       "      <td>-0.575074</td>\n",
       "      <td>0.328874</td>\n",
       "      <td>0.993301</td>\n",
       "      <td>0.204160</td>\n",
       "      <td>-0.998069</td>\n",
       "      <td>0.188386</td>\n",
       "      <td>-0.075836</td>\n",
       "      <td>-0.288692</td>\n",
       "      <td>-0.414485</td>\n",
       "      <td>0.897224</td>\n",
       "    </tr>\n",
       "    <tr>\n",
       "      <th>92200</th>\n",
       "      <td>0.962281</td>\n",
       "      <td>0.644225</td>\n",
       "      <td>-0.176143</td>\n",
       "      <td>-0.840354</td>\n",
       "      <td>0.570235</td>\n",
       "      <td>0.176143</td>\n",
       "      <td>0.037227</td>\n",
       "      <td>-0.290574</td>\n",
       "      <td>-0.823569</td>\n",
       "      <td>0.260721</td>\n",
       "      <td>...</td>\n",
       "      <td>-0.585675</td>\n",
       "      <td>0.341126</td>\n",
       "      <td>0.994714</td>\n",
       "      <td>0.216853</td>\n",
       "      <td>-0.997181</td>\n",
       "      <td>0.201122</td>\n",
       "      <td>-0.088747</td>\n",
       "      <td>-0.301111</td>\n",
       "      <td>-0.402969</td>\n",
       "      <td>0.895422</td>\n",
       "    </tr>\n",
       "    <tr>\n",
       "      <th>92603</th>\n",
       "      <td>0.963910</td>\n",
       "      <td>0.648773</td>\n",
       "      <td>-0.170613</td>\n",
       "      <td>-0.838609</td>\n",
       "      <td>0.566034</td>\n",
       "      <td>0.170613</td>\n",
       "      <td>0.031119</td>\n",
       "      <td>-0.284701</td>\n",
       "      <td>-0.826225</td>\n",
       "      <td>0.255356</td>\n",
       "      <td>...</td>\n",
       "      <td>-0.580693</td>\n",
       "      <td>0.335354</td>\n",
       "      <td>0.994071</td>\n",
       "      <td>0.210867</td>\n",
       "      <td>-0.997619</td>\n",
       "      <td>0.195116</td>\n",
       "      <td>-0.082652</td>\n",
       "      <td>-0.295259</td>\n",
       "      <td>-0.408437</td>\n",
       "      <td>0.896353</td>\n",
       "    </tr>\n",
       "    <tr>\n",
       "      <th>93412</th>\n",
       "      <td>0.964605</td>\n",
       "      <td>0.650661</td>\n",
       "      <td>-0.168535</td>\n",
       "      <td>-0.838387</td>\n",
       "      <td>0.564653</td>\n",
       "      <td>0.168535</td>\n",
       "      <td>0.028136</td>\n",
       "      <td>-0.281900</td>\n",
       "      <td>-0.827937</td>\n",
       "      <td>0.253372</td>\n",
       "      <td>...</td>\n",
       "      <td>-0.578365</td>\n",
       "      <td>0.332609</td>\n",
       "      <td>0.993774</td>\n",
       "      <td>0.207991</td>\n",
       "      <td>-0.997800</td>\n",
       "      <td>0.192231</td>\n",
       "      <td>-0.079691</td>\n",
       "      <td>-0.292465</td>\n",
       "      <td>-0.411264</td>\n",
       "      <td>0.897326</td>\n",
       "    </tr>\n",
       "    <tr>\n",
       "      <th>94225</th>\n",
       "      <td>0.958344</td>\n",
       "      <td>0.633459</td>\n",
       "      <td>-0.189323</td>\n",
       "      <td>-0.844828</td>\n",
       "      <td>0.580380</td>\n",
       "      <td>0.189323</td>\n",
       "      <td>0.051141</td>\n",
       "      <td>-0.303983</td>\n",
       "      <td>-0.817814</td>\n",
       "      <td>0.273529</td>\n",
       "      <td>...</td>\n",
       "      <td>-0.597055</td>\n",
       "      <td>0.354304</td>\n",
       "      <td>0.996066</td>\n",
       "      <td>0.230510</td>\n",
       "      <td>-0.996020</td>\n",
       "      <td>0.214828</td>\n",
       "      <td>-0.102640</td>\n",
       "      <td>-0.314471</td>\n",
       "      <td>-0.390610</td>\n",
       "      <td>0.893685</td>\n",
       "    </tr>\n",
       "    <tr>\n",
       "      <th>102148</th>\n",
       "      <td>0.981120</td>\n",
       "      <td>0.703690</td>\n",
       "      <td>-0.098792</td>\n",
       "      <td>-0.809511</td>\n",
       "      <td>0.508291</td>\n",
       "      <td>0.098792</td>\n",
       "      <td>-0.041416</td>\n",
       "      <td>-0.213550</td>\n",
       "      <td>-0.851291</td>\n",
       "      <td>0.185092</td>\n",
       "      <td>...</td>\n",
       "      <td>-0.518806</td>\n",
       "      <td>0.265183</td>\n",
       "      <td>0.983161</td>\n",
       "      <td>0.138788</td>\n",
       "      <td>-0.999980</td>\n",
       "      <td>0.122837</td>\n",
       "      <td>-0.009966</td>\n",
       "      <td>-0.224336</td>\n",
       "      <td>-0.470544</td>\n",
       "      <td>0.899819</td>\n",
       "    </tr>\n",
       "    <tr>\n",
       "      <th>117758</th>\n",
       "      <td>0.986235</td>\n",
       "      <td>0.723402</td>\n",
       "      <td>-0.072115</td>\n",
       "      <td>-0.798695</td>\n",
       "      <td>0.486724</td>\n",
       "      <td>0.072115</td>\n",
       "      <td>-0.069951</td>\n",
       "      <td>-0.185391</td>\n",
       "      <td>-0.861161</td>\n",
       "      <td>0.158946</td>\n",
       "      <td>...</td>\n",
       "      <td>-0.493979</td>\n",
       "      <td>0.237355</td>\n",
       "      <td>0.977523</td>\n",
       "      <td>0.110312</td>\n",
       "      <td>-0.999406</td>\n",
       "      <td>0.094306</td>\n",
       "      <td>0.018657</td>\n",
       "      <td>-0.196244</td>\n",
       "      <td>-0.494814</td>\n",
       "      <td>0.901396</td>\n",
       "    </tr>\n",
       "    <tr>\n",
       "      <th>131360</th>\n",
       "      <td>0.868559</td>\n",
       "      <td>0.442396</td>\n",
       "      <td>-0.398012</td>\n",
       "      <td>-0.896871</td>\n",
       "      <td>0.730287</td>\n",
       "      <td>0.398012</td>\n",
       "      <td>0.271230</td>\n",
       "      <td>-0.509486</td>\n",
       "      <td>-0.706359</td>\n",
       "      <td>0.474054</td>\n",
       "      <td>...</td>\n",
       "      <td>-0.762426</td>\n",
       "      <td>0.554788</td>\n",
       "      <td>0.990188</td>\n",
       "      <td>0.441865</td>\n",
       "      <td>-0.949812</td>\n",
       "      <td>0.427407</td>\n",
       "      <td>-0.321073</td>\n",
       "      <td>-0.518878</td>\n",
       "      <td>-0.184113</td>\n",
       "      <td>0.844767</td>\n",
       "    </tr>\n",
       "    <tr>\n",
       "      <th>135097</th>\n",
       "      <td>0.983238</td>\n",
       "      <td>0.711637</td>\n",
       "      <td>-0.087875</td>\n",
       "      <td>-0.804662</td>\n",
       "      <td>0.499282</td>\n",
       "      <td>0.087875</td>\n",
       "      <td>-0.052288</td>\n",
       "      <td>-0.202752</td>\n",
       "      <td>-0.854584</td>\n",
       "      <td>0.174365</td>\n",
       "      <td>...</td>\n",
       "      <td>-0.509244</td>\n",
       "      <td>0.254506</td>\n",
       "      <td>0.981040</td>\n",
       "      <td>0.127890</td>\n",
       "      <td>-0.999850</td>\n",
       "      <td>0.111916</td>\n",
       "      <td>0.000956</td>\n",
       "      <td>-0.213567</td>\n",
       "      <td>-0.479619</td>\n",
       "      <td>0.899831</td>\n",
       "    </tr>\n",
       "    <tr>\n",
       "      <th>135228</th>\n",
       "      <td>0.987643</td>\n",
       "      <td>0.729483</td>\n",
       "      <td>-0.063202</td>\n",
       "      <td>-0.793987</td>\n",
       "      <td>0.479010</td>\n",
       "      <td>0.063202</td>\n",
       "      <td>-0.077866</td>\n",
       "      <td>-0.177357</td>\n",
       "      <td>-0.862694</td>\n",
       "      <td>0.150126</td>\n",
       "      <td>...</td>\n",
       "      <td>-0.486700</td>\n",
       "      <td>0.229385</td>\n",
       "      <td>0.975664</td>\n",
       "      <td>0.102256</td>\n",
       "      <td>-0.999069</td>\n",
       "      <td>0.086238</td>\n",
       "      <td>0.026646</td>\n",
       "      <td>-0.188232</td>\n",
       "      <td>-0.501059</td>\n",
       "      <td>0.900371</td>\n",
       "    </tr>\n",
       "    <tr>\n",
       "      <th>138082</th>\n",
       "      <td>0.971462</td>\n",
       "      <td>0.671067</td>\n",
       "      <td>-0.142665</td>\n",
       "      <td>-0.828774</td>\n",
       "      <td>0.544295</td>\n",
       "      <td>0.142665</td>\n",
       "      <td>0.001252</td>\n",
       "      <td>-0.255753</td>\n",
       "      <td>-0.838179</td>\n",
       "      <td>0.228146</td>\n",
       "      <td>...</td>\n",
       "      <td>-0.555874</td>\n",
       "      <td>0.306863</td>\n",
       "      <td>0.990345</td>\n",
       "      <td>0.181434</td>\n",
       "      <td>-0.999241</td>\n",
       "      <td>0.165590</td>\n",
       "      <td>-0.052798</td>\n",
       "      <td>-0.266406</td>\n",
       "      <td>-0.434716</td>\n",
       "      <td>0.899708</td>\n",
       "    </tr>\n",
       "    <tr>\n",
       "      <th>142150</th>\n",
       "      <td>0.970380</td>\n",
       "      <td>0.667898</td>\n",
       "      <td>-0.146221</td>\n",
       "      <td>-0.829174</td>\n",
       "      <td>0.546676</td>\n",
       "      <td>0.146221</td>\n",
       "      <td>0.006456</td>\n",
       "      <td>-0.260662</td>\n",
       "      <td>-0.835233</td>\n",
       "      <td>0.231545</td>\n",
       "      <td>...</td>\n",
       "      <td>-0.559987</td>\n",
       "      <td>0.311679</td>\n",
       "      <td>0.990980</td>\n",
       "      <td>0.186468</td>\n",
       "      <td>-0.999051</td>\n",
       "      <td>0.170638</td>\n",
       "      <td>-0.057968</td>\n",
       "      <td>-0.271304</td>\n",
       "      <td>-0.429812</td>\n",
       "      <td>0.898045</td>\n",
       "    </tr>\n",
       "    <tr>\n",
       "      <th>143177</th>\n",
       "      <td>0.967061</td>\n",
       "      <td>0.657763</td>\n",
       "      <td>-0.159672</td>\n",
       "      <td>-0.835264</td>\n",
       "      <td>0.557763</td>\n",
       "      <td>0.159672</td>\n",
       "      <td>0.018748</td>\n",
       "      <td>-0.272809</td>\n",
       "      <td>-0.831694</td>\n",
       "      <td>0.244745</td>\n",
       "      <td>...</td>\n",
       "      <td>-0.570587</td>\n",
       "      <td>0.323664</td>\n",
       "      <td>0.992669</td>\n",
       "      <td>0.198745</td>\n",
       "      <td>-0.998384</td>\n",
       "      <td>0.182954</td>\n",
       "      <td>-0.070308</td>\n",
       "      <td>-0.283405</td>\n",
       "      <td>-0.419533</td>\n",
       "      <td>0.898370</td>\n",
       "    </tr>\n",
       "    <tr>\n",
       "      <th>145192</th>\n",
       "      <td>0.914345</td>\n",
       "      <td>0.530507</td>\n",
       "      <td>-0.308009</td>\n",
       "      <td>-0.880573</td>\n",
       "      <td>0.668974</td>\n",
       "      <td>0.308009</td>\n",
       "      <td>0.173967</td>\n",
       "      <td>-0.420462</td>\n",
       "      <td>-0.761937</td>\n",
       "      <td>0.388243</td>\n",
       "      <td>...</td>\n",
       "      <td>-0.693172</td>\n",
       "      <td>0.468329</td>\n",
       "      <td>0.999258</td>\n",
       "      <td>0.349731</td>\n",
       "      <td>-0.976659</td>\n",
       "      <td>0.334631</td>\n",
       "      <td>-0.224909</td>\n",
       "      <td>-0.430403</td>\n",
       "      <td>-0.278533</td>\n",
       "      <td>0.873320</td>\n",
       "    </tr>\n",
       "    <tr>\n",
       "      <th>149201</th>\n",
       "      <td>0.983652</td>\n",
       "      <td>0.713145</td>\n",
       "      <td>-0.086048</td>\n",
       "      <td>-0.804318</td>\n",
       "      <td>0.497984</td>\n",
       "      <td>0.086048</td>\n",
       "      <td>-0.054889</td>\n",
       "      <td>-0.200261</td>\n",
       "      <td>-0.855921</td>\n",
       "      <td>0.172603</td>\n",
       "      <td>...</td>\n",
       "      <td>-0.507108</td>\n",
       "      <td>0.252054</td>\n",
       "      <td>0.980587</td>\n",
       "      <td>0.125348</td>\n",
       "      <td>-0.999811</td>\n",
       "      <td>0.109369</td>\n",
       "      <td>0.003548</td>\n",
       "      <td>-0.211080</td>\n",
       "      <td>-0.482002</td>\n",
       "      <td>0.900513</td>\n",
       "    </tr>\n",
       "    <tr>\n",
       "      <th>163084</th>\n",
       "      <td>0.975380</td>\n",
       "      <td>0.683781</td>\n",
       "      <td>-0.125513</td>\n",
       "      <td>-0.820873</td>\n",
       "      <td>0.530069</td>\n",
       "      <td>0.125513</td>\n",
       "      <td>-0.014573</td>\n",
       "      <td>-0.240053</td>\n",
       "      <td>-0.842598</td>\n",
       "      <td>0.211294</td>\n",
       "      <td>...</td>\n",
       "      <td>-0.542080</td>\n",
       "      <td>0.291357</td>\n",
       "      <td>0.987849</td>\n",
       "      <td>0.165585</td>\n",
       "      <td>-0.999759</td>\n",
       "      <td>0.149696</td>\n",
       "      <td>-0.036900</td>\n",
       "      <td>-0.250761</td>\n",
       "      <td>-0.447858</td>\n",
       "      <td>0.899168</td>\n",
       "    </tr>\n",
       "    <tr>\n",
       "      <th>170177</th>\n",
       "      <td>0.929266</td>\n",
       "      <td>0.562697</td>\n",
       "      <td>-0.272383</td>\n",
       "      <td>-0.871023</td>\n",
       "      <td>0.643054</td>\n",
       "      <td>0.272383</td>\n",
       "      <td>0.137102</td>\n",
       "      <td>-0.385915</td>\n",
       "      <td>-0.779988</td>\n",
       "      <td>0.353951</td>\n",
       "      <td>...</td>\n",
       "      <td>-0.665238</td>\n",
       "      <td>0.434603</td>\n",
       "      <td>1.000000</td>\n",
       "      <td>0.314240</td>\n",
       "      <td>-0.984206</td>\n",
       "      <td>0.298938</td>\n",
       "      <td>-0.188294</td>\n",
       "      <td>-0.396039</td>\n",
       "      <td>-0.312860</td>\n",
       "      <td>0.880777</td>\n",
       "    </tr>\n",
       "  </tbody>\n",
       "</table>\n",
       "<p>23 rows × 330 columns</p>\n",
       "</div>"
      ],
      "text/plain": [
       "          518       1343      1919      3984      4035      5128      6208    \\\n",
       "44509   0.950154  0.612063 -0.215327 -0.853885  0.600461  0.215327  0.077639   \n",
       "80918   0.883850  0.470580 -0.369820 -0.892010  0.711275  0.369820  0.241514   \n",
       "83202   0.930828  0.566011 -0.269188 -0.871145  0.641180  0.269188  0.132288   \n",
       "83573   0.971200  0.670211 -0.143905 -0.829512  0.545399  0.143905  0.002116   \n",
       "86225   0.924039  0.551193 -0.285212 -0.874492  0.652414  0.285212  0.150507   \n",
       "86670   0.960501  0.639132 -0.182929 -0.843669  0.575925  0.182929  0.042851   \n",
       "91798   0.965709  0.653901 -0.164276 -0.836467  0.561151  0.164276  0.024295   \n",
       "92200   0.962281  0.644225 -0.176143 -0.840354  0.570235  0.176143  0.037227   \n",
       "92603   0.963910  0.648773 -0.170613 -0.838609  0.566034  0.170613  0.031119   \n",
       "93412   0.964605  0.650661 -0.168535 -0.838387  0.564653  0.168535  0.028136   \n",
       "94225   0.958344  0.633459 -0.189323 -0.844828  0.580380  0.189323  0.051141   \n",
       "102148  0.981120  0.703690 -0.098792 -0.809511  0.508291  0.098792 -0.041416   \n",
       "117758  0.986235  0.723402 -0.072115 -0.798695  0.486724  0.072115 -0.069951   \n",
       "131360  0.868559  0.442396 -0.398012 -0.896871  0.730287  0.398012  0.271230   \n",
       "135097  0.983238  0.711637 -0.087875 -0.804662  0.499282  0.087875 -0.052288   \n",
       "135228  0.987643  0.729483 -0.063202 -0.793987  0.479010  0.063202 -0.077866   \n",
       "138082  0.971462  0.671067 -0.142665 -0.828774  0.544295  0.142665  0.001252   \n",
       "142150  0.970380  0.667898 -0.146221 -0.829174  0.546676  0.146221  0.006456   \n",
       "143177  0.967061  0.657763 -0.159672 -0.835264  0.557763  0.159672  0.018748   \n",
       "145192  0.914345  0.530507 -0.308009 -0.880573  0.668974  0.308009  0.173967   \n",
       "149201  0.983652  0.713145 -0.086048 -0.804318  0.497984  0.086048 -0.054889   \n",
       "163084  0.975380  0.683781 -0.125513 -0.820873  0.530069  0.125513 -0.014573   \n",
       "170177  0.929266  0.562697 -0.272383 -0.871023  0.643054  0.272383  0.137102   \n",
       "\n",
       "          6268      7460      8518    ...    168660    169159    170177  \\\n",
       "44509  -0.329483 -0.807049  0.298798  ... -0.618589  0.379347  0.998120   \n",
       "80918  -0.482500 -0.723765  0.447226  ... -0.741785  0.528637  0.994121   \n",
       "83202  -0.381523 -0.783208  0.350951  ... -0.661757  0.430327  0.999986   \n",
       "83573  -0.256643 -0.838140  0.229376  ... -0.556679  0.307745  0.990490   \n",
       "86225  -0.398506 -0.773474  0.366307  ... -0.675469  0.446903  0.999903   \n",
       "86670  -0.296161 -0.822254  0.267393  ... -0.590548  0.346638  0.995346   \n",
       "91798  -0.278112 -0.829048  0.249195  ... -0.575074  0.328874  0.993301   \n",
       "92200  -0.290574 -0.823569  0.260721  ... -0.585675  0.341126  0.994714   \n",
       "92603  -0.284701 -0.826225  0.255356  ... -0.580693  0.335354  0.994071   \n",
       "93412  -0.281900 -0.827937  0.253372  ... -0.578365  0.332609  0.993774   \n",
       "94225  -0.303983 -0.817814  0.273529  ... -0.597055  0.354304  0.996066   \n",
       "102148 -0.213550 -0.851291  0.185092  ... -0.518806  0.265183  0.983161   \n",
       "117758 -0.185391 -0.861161  0.158946  ... -0.493979  0.237355  0.977523   \n",
       "131360 -0.509486 -0.706359  0.474054  ... -0.762426  0.554788  0.990188   \n",
       "135097 -0.202752 -0.854584  0.174365  ... -0.509244  0.254506  0.981040   \n",
       "135228 -0.177357 -0.862694  0.150126  ... -0.486700  0.229385  0.975664   \n",
       "138082 -0.255753 -0.838179  0.228146  ... -0.555874  0.306863  0.990345   \n",
       "142150 -0.260662 -0.835233  0.231545  ... -0.559987  0.311679  0.990980   \n",
       "143177 -0.272809 -0.831694  0.244745  ... -0.570587  0.323664  0.992669   \n",
       "145192 -0.420462 -0.761937  0.388243  ... -0.693172  0.468329  0.999258   \n",
       "149201 -0.200261 -0.855921  0.172603  ... -0.507108  0.252054  0.980587   \n",
       "163084 -0.240053 -0.842598  0.211294  ... -0.542080  0.291357  0.987849   \n",
       "170177 -0.385915 -0.779988  0.353951  ... -0.665238  0.434603  1.000000   \n",
       "\n",
       "          171998    172023    172096    172200    173479    173662    174077  \n",
       "44509   0.256494 -0.993205  0.240916 -0.129094 -0.339867 -0.367081  0.890698  \n",
       "80918   0.413867 -0.959257  0.399193 -0.291733 -0.492076 -0.213262  0.853848  \n",
       "83202   0.309689 -0.984960  0.294365 -0.183542 -0.391663 -0.317652  0.882847  \n",
       "83573   0.182323 -0.999197  0.166482 -0.053674 -0.267292 -0.434075  0.899990  \n",
       "86225   0.327166 -0.981649  0.311934 -0.201613 -0.408566 -0.300418  0.878102  \n",
       "86670   0.222491 -0.996681  0.206781 -0.094401 -0.306674 -0.398362  0.895972  \n",
       "91798   0.204160 -0.998069  0.188386 -0.075836 -0.288692 -0.414485  0.897224  \n",
       "92200   0.216853 -0.997181  0.201122 -0.088747 -0.301111 -0.402969  0.895422  \n",
       "92603   0.210867 -0.997619  0.195116 -0.082652 -0.295259 -0.408437  0.896353  \n",
       "93412   0.207991 -0.997800  0.192231 -0.079691 -0.292465 -0.411264  0.897326  \n",
       "94225   0.230510 -0.996020  0.214828 -0.102640 -0.314471 -0.390610  0.893685  \n",
       "102148  0.138788 -0.999980  0.122837 -0.009966 -0.224336 -0.470544  0.899819  \n",
       "117758  0.110312 -0.999406  0.094306  0.018657 -0.196244 -0.494814  0.901396  \n",
       "131360  0.441865 -0.949812  0.427407 -0.321073 -0.518878 -0.184113  0.844767  \n",
       "135097  0.127890 -0.999850  0.111916  0.000956 -0.213567 -0.479619  0.899831  \n",
       "135228  0.102256 -0.999069  0.086238  0.026646 -0.188232 -0.501059  0.900371  \n",
       "138082  0.181434 -0.999241  0.165590 -0.052798 -0.266406 -0.434716  0.899708  \n",
       "142150  0.186468 -0.999051  0.170638 -0.057968 -0.271304 -0.429812  0.898045  \n",
       "143177  0.198745 -0.998384  0.182954 -0.070308 -0.283405 -0.419533  0.898370  \n",
       "145192  0.349731 -0.976659  0.334631 -0.224909 -0.430403 -0.278533  0.873320  \n",
       "149201  0.125348 -0.999811  0.109369  0.003548 -0.211080 -0.482002  0.900513  \n",
       "163084  0.165585 -0.999759  0.149696 -0.036900 -0.250761 -0.447858  0.899168  \n",
       "170177  0.314240 -0.984206  0.298938 -0.188294 -0.396039 -0.312860  0.880777  \n",
       "\n",
       "[23 rows x 330 columns]"
      ]
     },
     "execution_count": 72,
     "metadata": {},
     "output_type": "execute_result"
    }
   ],
   "source": [
    "temp[temp[170177] > 0.95]"
   ]
  },
  {
   "cell_type": "code",
   "execution_count": 293,
   "metadata": {},
   "outputs": [],
   "source": [
    "test_indexes = pd.Index([86225, 170177]) #good_one"
   ]
  },
  {
   "cell_type": "code",
   "execution_count": 80,
   "metadata": {},
   "outputs": [],
   "source": [
    "test_indexes = pd.Index([44509, 170177]) #good_one"
   ]
  },
  {
   "cell_type": "code",
   "execution_count": 294,
   "metadata": {},
   "outputs": [],
   "source": [
    "X_dataset_second_degree_for_test_indexes = dataset_second_degree[test_indexes].drop_duplicates().values\n",
    "y = dataset_second_degree[length_dataset_second_degree - 1].values.reshape([len(dataset_second_degree), 1])\n",
    "X_dataset_second_degree_for_test_indexes = np.hstack((y, X_dataset_second_degree_for_test_indexes))\n",
    "theta = (np.linalg.inv(X_dataset_second_degree_for_test_indexes.T.dot(X_dataset_second_degree_for_test_indexes))).dot(X_dataset_second_degree_for_test_indexes.T.dot(y))"
   ]
  },
  {
   "cell_type": "markdown",
   "metadata": {},
   "source": [
    "Here shown that with this column we can devide our set with respect to output:"
   ]
  },
  {
   "cell_type": "code",
   "execution_count": 295,
   "metadata": {
    "scrolled": true
   },
   "outputs": [
    {
     "name": "stdout",
     "output_type": "stream",
     "text": [
      "The length of all set is 4 close guesses length set is 4\n",
      "          inactive  active\n",
      "inactive         2       0\n",
      "active           0       2\n"
     ]
    }
   ],
   "source": [
    "count = 0\n",
    "X_dataset_second_degree_for_test_indexes = dataset_second_degree[test_indexes].values\n",
    "y = dataset_second_degree[length_dataset_second_degree - 1].values.reshape([len(dataset_second_degree), 1])\n",
    "X_dataset_second_degree_for_test_indexes = np.hstack((y, X_dataset_second_degree_for_test_indexes))\n",
    "#Results obtained by linear regression:\n",
    "test_out_theta_dataset_second_degree_for_test_indexes = X_dataset_second_degree_for_test_indexes.dot(theta)\n",
    "\n",
    "for i in range(len(dataset_second_degree)):\n",
    "    if math.isclose(test_out_theta_dataset_second_degree_for_test_indexes[i][0], y[i][0], abs_tol=1e-15):\n",
    "        count += 1\n",
    "print('The length of all set is', len(dataset_second_degree), 'close guesses length set is', count)\n",
    "print(pd.DataFrame(confusion_matrix(test_out_theta_dataset_second_degree_for_test_indexes.round(), y), index=['inactive', 'active'], columns= ['inactive', 'active']))"
   ]
  },
  {
   "cell_type": "code",
   "execution_count": 129,
   "metadata": {},
   "outputs": [
    {
     "name": "stdout",
     "output_type": "stream",
     "text": [
      "159362\n"
     ]
    }
   ],
   "source": [
    "p = 5408\n",
    "print((170177 + 1) - 2*p)"
   ]
  },
  {
   "cell_type": "code",
   "execution_count": 276,
   "metadata": {},
   "outputs": [
    {
     "name": "stdout",
     "output_type": "stream",
     "text": [
      "32.0\n"
     ]
    }
   ],
   "source": [
    "n = 564\n",
    "\n",
    "print(159362 - (n * (n + 1)) / 2) #(159362 + 1) - "
   ]
  },
  {
   "cell_type": "code",
   "execution_count": 280,
   "metadata": {},
   "outputs": [],
   "source": [
    "def abs_to_pair_degree(number, num_parameters = 5408):\n",
    "    temp_num = number - (2 * num_parameters - 1)\n",
    "    temp_first_column_index = 1\n",
    "    \n",
    "    while temp_num - (temp_first_column_index * (temp_first_column_index + 1)) / 2 > 0:\n",
    "        temp_first_column_index += 1\n",
    "    \n",
    "    return temp_first_column_index, int(temp_num - (temp_first_column_index * (temp_first_column_index - 1)) / 2 - 1)"
   ]
  },
  {
   "cell_type": "code",
   "execution_count": 281,
   "metadata": {},
   "outputs": [
    {
     "data": {
      "text/plain": [
       "(565, 31)"
      ]
     },
     "execution_count": 281,
     "metadata": {},
     "output_type": "execute_result"
    }
   ],
   "source": [
    "abs_to_pair_degree(170177)"
   ]
  },
  {
   "cell_type": "code",
   "execution_count": 292,
   "metadata": {},
   "outputs": [
    {
     "name": "stdout",
     "output_type": "stream",
     "text": [
      "(388, 331)\n"
     ]
    }
   ],
   "source": [
    "column_num = 86225\n",
    "\n",
    "func_res = abs_to_pair_degree(column_num)\n",
    "\n",
    "print(func_res)\n",
    "\n",
    "element_some = dataset.iloc[:,func_res[0]:func_res[0] + 1].T.reset_index(drop=True).T.multiply(dataset.iloc[:,func_res[1]:func_res[1] + 1].T.reset_index(drop=True).T).reset_index(drop=True)"
   ]
  },
  {
   "cell_type": "code",
   "execution_count": 288,
   "metadata": {},
   "outputs": [
    {
     "data": {
      "text/html": [
       "<div>\n",
       "<style scoped>\n",
       "    .dataframe tbody tr th:only-of-type {\n",
       "        vertical-align: middle;\n",
       "    }\n",
       "\n",
       "    .dataframe tbody tr th {\n",
       "        vertical-align: top;\n",
       "    }\n",
       "\n",
       "    .dataframe thead th {\n",
       "        text-align: right;\n",
       "    }\n",
       "</style>\n",
       "<table border=\"1\" class=\"dataframe\">\n",
       "  <thead>\n",
       "    <tr style=\"text-align: right;\">\n",
       "      <th></th>\n",
       "      <th>0</th>\n",
       "    </tr>\n",
       "  </thead>\n",
       "  <tbody>\n",
       "    <tr>\n",
       "      <th>13</th>\n",
       "      <td>-0.000045</td>\n",
       "    </tr>\n",
       "    <tr>\n",
       "      <th>14</th>\n",
       "      <td>-0.000024</td>\n",
       "    </tr>\n",
       "    <tr>\n",
       "      <th>15</th>\n",
       "      <td>0.000063</td>\n",
       "    </tr>\n",
       "    <tr>\n",
       "      <th>16</th>\n",
       "      <td>-0.000084</td>\n",
       "    </tr>\n",
       "  </tbody>\n",
       "</table>\n",
       "</div>"
      ],
      "text/plain": [
       "           0\n",
       "13 -0.000045\n",
       "14 -0.000024\n",
       "15  0.000063\n",
       "16 -0.000084"
      ]
     },
     "execution_count": 288,
     "metadata": {},
     "output_type": "execute_result"
    }
   ],
   "source": [
    "element_some.iloc[13:17,:]"
   ]
  },
  {
   "cell_type": "code",
   "execution_count": 289,
   "metadata": {},
   "outputs": [],
   "source": [
    "temp_element_some = element_some.iloc[13:17,:]"
   ]
  },
  {
   "cell_type": "code",
   "execution_count": 290,
   "metadata": {},
   "outputs": [],
   "source": [
    "temp_search_for_element = dataset_second_degree.T\n",
    "\n",
    "for i in range(len(dataset_second_degree)):\n",
    "    temp_search_for_element = temp_search_for_element[temp_search_for_element[i] == temp_element_some.values[i][0]]"
   ]
  },
  {
   "cell_type": "code",
   "execution_count": 291,
   "metadata": {},
   "outputs": [
    {
     "data": {
      "text/html": [
       "<div>\n",
       "<style scoped>\n",
       "    .dataframe tbody tr th:only-of-type {\n",
       "        vertical-align: middle;\n",
       "    }\n",
       "\n",
       "    .dataframe tbody tr th {\n",
       "        vertical-align: top;\n",
       "    }\n",
       "\n",
       "    .dataframe thead th {\n",
       "        text-align: right;\n",
       "    }\n",
       "</style>\n",
       "<table border=\"1\" class=\"dataframe\">\n",
       "  <thead>\n",
       "    <tr style=\"text-align: right;\">\n",
       "      <th></th>\n",
       "      <th>86225</th>\n",
       "    </tr>\n",
       "  </thead>\n",
       "  <tbody>\n",
       "    <tr>\n",
       "      <th>0</th>\n",
       "      <td>-0.000045</td>\n",
       "    </tr>\n",
       "    <tr>\n",
       "      <th>1</th>\n",
       "      <td>-0.000024</td>\n",
       "    </tr>\n",
       "    <tr>\n",
       "      <th>2</th>\n",
       "      <td>0.000063</td>\n",
       "    </tr>\n",
       "    <tr>\n",
       "      <th>3</th>\n",
       "      <td>-0.000084</td>\n",
       "    </tr>\n",
       "  </tbody>\n",
       "</table>\n",
       "</div>"
      ],
      "text/plain": [
       "      86225\n",
       "0 -0.000045\n",
       "1 -0.000024\n",
       "2  0.000063\n",
       "3 -0.000084"
      ]
     },
     "execution_count": 291,
     "metadata": {},
     "output_type": "execute_result"
    }
   ],
   "source": [
    "temp_search_for_element.T"
   ]
  },
  {
   "cell_type": "code",
   "execution_count": 296,
   "metadata": {},
   "outputs": [
    {
     "name": "stdout",
     "output_type": "stream",
     "text": [
      "(388, 331)\n",
      "(565, 31)\n"
     ]
    }
   ],
   "source": [
    "first_column_num = 86225\n",
    "second_column_num = 170177\n",
    "\n",
    "first_func_res = abs_to_pair_degree(first_column_num)\n",
    "second_func_res = abs_to_pair_degree(second_column_num)\n",
    "\n",
    "print(first_func_res)\n",
    "print(second_func_res)\n",
    "\n",
    "first_element = dataset.iloc[:,first_func_res[0]:first_func_res[0] + 1].T.reset_index(drop=True).T.multiply(dataset.iloc[:,first_func_res[1]:first_func_res[1] + 1].T.reset_index(drop=True).T).reset_index(drop=True)\n",
    "second_element = dataset.iloc[:,second_func_res[0]:second_func_res[0] + 1].T.reset_index(drop=True).T.multiply(dataset.iloc[:,second_func_res[1]:second_func_res[1] + 1].T.reset_index(drop=True).T).reset_index(drop=True)\n",
    "\n",
    "final_element = first_element.reset_index(drop=True).merge(second_element.reset_index(drop=True), left_index=True, right_index=True).T.reset_index(drop=True).T"
   ]
  },
  {
   "cell_type": "code",
   "execution_count": 307,
   "metadata": {},
   "outputs": [
    {
     "name": "stdout",
     "output_type": "stream",
     "text": [
      "The length of all set is 4921 close guesses length set is 4921\n",
      "          inactive  active\n",
      "inactive      4885       0\n",
      "active           0      36\n"
     ]
    }
   ],
   "source": [
    "count = 0\n",
    "X_final_element = final_element.values\n",
    "y = dataset[5408].values.reshape([len(dataset), 1])\n",
    "X_final_element = np.hstack((y, X_final_element))\n",
    "#Results obtained by linear regression:\n",
    "test_out_theta_final_element = X_final_element.dot(theta)\n",
    "\n",
    "for i in range(len(dataset)):\n",
    "    if math.isclose(test_out_theta_final_element[i][0], y[i][0], abs_tol=1e-11):\n",
    "        count += 1\n",
    "\n",
    "print('The length of all set is', len(dataset), 'close guesses length set is', count)\n",
    "print(pd.DataFrame(confusion_matrix(test_out_theta_final_element.round(), y), index=['inactive', 'active'], columns= ['inactive', 'active']))"
   ]
  },
  {
   "cell_type": "code",
   "execution_count": 313,
   "metadata": {},
   "outputs": [],
   "source": [
    "import pickle"
   ]
  },
  {
   "cell_type": "code",
   "execution_count": 314,
   "metadata": {},
   "outputs": [],
   "source": [
    "with open('dataset_second_degree', 'wb') as fp:\n",
    "    #pickle.dump(dataset_second_degree, fp)"
   ]
  },
  {
   "cell_type": "code",
   "execution_count": null,
   "metadata": {},
   "outputs": [],
   "source": [
    "with open('dataset_second_degree', 'rb') as fp:\n",
    "    #dataset_second_degree = pickle.load(fp)"
   ]
  },
  {
   "cell_type": "code",
   "execution_count": null,
   "metadata": {},
   "outputs": [],
   "source": []
  },
  {
   "cell_type": "markdown",
   "metadata": {},
   "source": [
    "## Check for solution"
   ]
  },
  {
   "cell_type": "markdown",
   "metadata": {},
   "source": [
    "Here all subsets checked for being sets of indexes with which we can solve classification problem."
   ]
  },
  {
   "cell_type": "code",
   "execution_count": 38,
   "metadata": {},
   "outputs": [],
   "source": [
    "k = dataset"
   ]
  },
  {
   "cell_type": "code",
   "execution_count": 41,
   "metadata": {},
   "outputs": [],
   "source": [
    "#X_k_for_s4 = k[res_for_s4_index].drop_duplicates().values\n",
    "#y = k[5408].values.reshape([len(k), 1])\n",
    "#X_k_for_s4 = np.hstack((y, X_k_for_s4))\n",
    "#teta = (np.linalg.inv(X_k_for_s4.T.dot(X_k_for_s4))).dot(X_k_for_s4.T.dot(y))"
   ]
  },
  {
   "cell_type": "code",
   "execution_count": 40,
   "metadata": {},
   "outputs": [],
   "source": [
    "#X_k_for_s4 = k[save2].drop_duplicates().values\n",
    "#y = k[5408].values.reshape([len(k), 1])\n",
    "#X_k_for_s4 = np.hstack((y, X_k_for_s4))\n",
    "#teta = (np.linalg.inv(X_k_for_s4.T.dot(X_k_for_s4))).dot(X_k_for_s4.T.dot(y))"
   ]
  },
  {
   "cell_type": "code",
   "execution_count": 42,
   "metadata": {},
   "outputs": [],
   "source": [
    "X_active_for_s4 = active[save4].drop_duplicates().values\n",
    "y = active[5408].values.reshape([len(active), 1])\n",
    "X_active_for_s4 = np.hstack((y, X_active_for_s4))\n",
    "teta = (np.linalg.inv(X_active_for_s4.T.dot(X_active_for_s4))).dot(X_active_for_s4.T.dot(y))"
   ]
  },
  {
   "cell_type": "code",
   "execution_count": 43,
   "metadata": {},
   "outputs": [
    {
     "name": "stdout",
     "output_type": "stream",
     "text": [
      "The length of all set is 4921 close guesses length set is 4921\n"
     ]
    }
   ],
   "source": [
    "count = 0\n",
    "X_k_for_s4 = k[save4].values\n",
    "y = k[5408].values.reshape([len(k), 1])\n",
    "X_k_for_s4 = np.hstack((y, X_k_for_s4))\n",
    "#Results obtained by linear regression:\n",
    "test_out_teta_s4_k = X_k_for_s4.dot(teta)\n",
    "\n",
    "for i in range(len(k)):\n",
    "    if math.isclose(test_out_teta_s4_k[i][0], y[i][0], abs_tol=1e-5):\n",
    "        count += 1\n",
    "print('The length of all set is', len(k), 'close guesses length set is', count)"
   ]
  },
  {
   "cell_type": "code",
   "execution_count": 44,
   "metadata": {},
   "outputs": [
    {
     "name": "stdout",
     "output_type": "stream",
     "text": [
      "0.9432420789854078\n"
     ]
    }
   ],
   "source": [
    "alpha = 0.01098\n",
    "beta = 0.01099\n",
    "drop5 = drop4 | save4\n",
    "mean, save5 = corr_mean(alpha , beta, drop5)\n",
    "print(mean)"
   ]
  },
  {
   "cell_type": "code",
   "execution_count": 45,
   "metadata": {},
   "outputs": [],
   "source": [
    "X_active_for_s4 = active[save5].drop_duplicates().values\n",
    "y = active[5408].values.reshape([len(active), 1])\n",
    "X_active_for_s4 = np.hstack((y, X_active_for_s4))\n",
    "teta = (np.linalg.inv(X_active_for_s4.T.dot(X_active_for_s4))).dot(X_active_for_s4.T.dot(y))"
   ]
  },
  {
   "cell_type": "code",
   "execution_count": 46,
   "metadata": {},
   "outputs": [
    {
     "name": "stdout",
     "output_type": "stream",
     "text": [
      "The length of all set is 4921 close guesses length set is 4921\n"
     ]
    }
   ],
   "source": [
    "count = 0\n",
    "X_k_for_s4 = k[save5].values\n",
    "y = k[5408].values.reshape([len(k), 1])\n",
    "X_k_for_s4 = np.hstack((y, X_k_for_s4))\n",
    "#Results obtained by linear regression:\n",
    "test_out_teta_s4_k = X_k_for_s4.dot(teta)\n",
    "\n",
    "for i in range(len(k)):\n",
    "    if math.isclose(test_out_teta_s4_k[i][0], y[i][0], abs_tol=1e-5):\n",
    "        count += 1\n",
    "print('The length of all set is', len(k), 'close guesses length set is', count)"
   ]
  },
  {
   "cell_type": "code",
   "execution_count": 80,
   "metadata": {},
   "outputs": [
    {
     "name": "stdout",
     "output_type": "stream",
     "text": [
      "0.9624046916662425\n"
     ]
    }
   ],
   "source": [
    "alpha = 0.0109\n",
    "beta = 0.01096\n",
    "drop6 = drop5 | save5\n",
    "mean, save6 = corr_mean(alpha , beta, drop6)\n",
    "print(mean)"
   ]
  },
  {
   "cell_type": "code",
   "execution_count": 81,
   "metadata": {},
   "outputs": [],
   "source": [
    "X_active_for_s4 = active[save6].drop_duplicates().values\n",
    "y = active[5408].values.reshape([len(active), 1])\n",
    "X_active_for_s4 = np.hstack((y, X_active_for_s4))\n",
    "teta = (np.linalg.inv(X_active_for_s4.T.dot(X_active_for_s4))).dot(X_active_for_s4.T.dot(y))"
   ]
  },
  {
   "cell_type": "code",
   "execution_count": 82,
   "metadata": {},
   "outputs": [
    {
     "name": "stdout",
     "output_type": "stream",
     "text": [
      "The length of all set is 4921 close guesses length set is 4921\n"
     ]
    }
   ],
   "source": [
    "count = 0\n",
    "X_k_for_s4 = k[save6].values\n",
    "y = k[5408].values.reshape([len(k), 1])\n",
    "X_k_for_s4 = np.hstack((y, X_k_for_s4))\n",
    "#Results obtained by linear regression:\n",
    "test_out_teta_s4_k = X_k_for_s4.dot(teta)\n",
    "\n",
    "for i in range(len(k)):\n",
    "    if math.isclose(test_out_teta_s4_k[i][0], y[i][0], abs_tol=1e-5):\n",
    "        count += 1\n",
    "print('The length of all set is', len(k), 'close guesses length set is', count)"
   ]
  },
  {
   "cell_type": "code",
   "execution_count": 83,
   "metadata": {},
   "outputs": [
    {
     "name": "stdout",
     "output_type": "stream",
     "text": [
      "1.0\n"
     ]
    }
   ],
   "source": [
    "alpha = 0.01089\n",
    "beta = 0.0109\n",
    "drop7 = drop6 | save6 \n",
    "mean, save7 = corr_mean(alpha , beta, drop7)\n",
    "print(mean)"
   ]
  },
  {
   "cell_type": "code",
   "execution_count": 84,
   "metadata": {},
   "outputs": [],
   "source": [
    "X_active_for_s4 = active[save7].drop_duplicates().values\n",
    "y = active[5408].values.reshape([len(active), 1])\n",
    "X_active_for_s4 = np.hstack((y, X_active_for_s4))\n",
    "teta = (np.linalg.inv(X_active_for_s4.T.dot(X_active_for_s4))).dot(X_active_for_s4.T.dot(y))"
   ]
  },
  {
   "cell_type": "code",
   "execution_count": 91,
   "metadata": {},
   "outputs": [
    {
     "name": "stdout",
     "output_type": "stream",
     "text": [
      "The length of all set is 4921 close guesses length set is 4921\n"
     ]
    }
   ],
   "source": [
    "count = 0\n",
    "X_k_for_s4 = k[save7].values\n",
    "y = k[5408].values.reshape([len(k), 1])\n",
    "X_k_for_s4 = np.hstack((y, X_k_for_s4))\n",
    "#Results obtained by linear regression:\n",
    "test_out_teta_s4_k = X_k_for_s4.dot(teta)\n",
    "\n",
    "for i in range(len(k)):\n",
    "    if math.isclose(test_out_teta_s4_k[i][0], y[i][0], abs_tol=1e-5):\n",
    "        count += 1\n",
    "print('The length of all set is', len(k), 'close guesses length set is', count)"
   ]
  },
  {
   "cell_type": "code",
   "execution_count": 93,
   "metadata": {},
   "outputs": [
    {
     "name": "stdout",
     "output_type": "stream",
     "text": [
      "1.0\n"
     ]
    }
   ],
   "source": [
    "alpha = 0.01088\n",
    "beta = 0.01089\n",
    "drop8 = drop7 | save7 \n",
    "mean, save8 = corr_mean(alpha , beta, drop8)\n",
    "print(mean)"
   ]
  },
  {
   "cell_type": "code",
   "execution_count": 94,
   "metadata": {},
   "outputs": [],
   "source": [
    "X_active_for_s4 = active[save8].drop_duplicates().values\n",
    "y = active[5408].values.reshape([len(active), 1])\n",
    "X_active_for_s4 = np.hstack((y, X_active_for_s4))\n",
    "teta = (np.linalg.inv(X_active_for_s4.T.dot(X_active_for_s4))).dot(X_active_for_s4.T.dot(y))"
   ]
  },
  {
   "cell_type": "code",
   "execution_count": 95,
   "metadata": {},
   "outputs": [
    {
     "name": "stdout",
     "output_type": "stream",
     "text": [
      "The length of all set is 4921 close guesses length set is 4921\n"
     ]
    }
   ],
   "source": [
    "count = 0\n",
    "X_k_for_s4 = k[save8].values\n",
    "y = k[5408].values.reshape([len(k), 1])\n",
    "X_k_for_s4 = np.hstack((y, X_k_for_s4))\n",
    "#Results obtained by linear regression:\n",
    "test_out_teta_s4_k = X_k_for_s4.dot(teta)\n",
    "\n",
    "for i in range(len(k)):\n",
    "    if math.isclose(test_out_teta_s4_k[i][0], y[i][0], abs_tol=1e-5):\n",
    "        count += 1\n",
    "print('The length of all set is', len(k), 'close guesses length set is', count)"
   ]
  },
  {
   "cell_type": "code",
   "execution_count": 100,
   "metadata": {},
   "outputs": [
    {
     "name": "stdout",
     "output_type": "stream",
     "text": [
      "0.9968008237650818\n"
     ]
    }
   ],
   "source": [
    "alpha = 0.01086\n",
    "beta = 0.01087\n",
    "drop9 = drop8 | save8\n",
    "mean, save9 = corr_mean(alpha , beta, drop9)\n",
    "print(mean)"
   ]
  },
  {
   "cell_type": "code",
   "execution_count": 101,
   "metadata": {},
   "outputs": [],
   "source": [
    "X_active_for_s4 = active[save9].drop_duplicates().values\n",
    "y = active[5408].values.reshape([len(active), 1])\n",
    "X_active_for_s4 = np.hstack((y, X_active_for_s4))\n",
    "teta = (np.linalg.inv(X_active_for_s4.T.dot(X_active_for_s4))).dot(X_active_for_s4.T.dot(y))"
   ]
  },
  {
   "cell_type": "code",
   "execution_count": 102,
   "metadata": {},
   "outputs": [
    {
     "name": "stdout",
     "output_type": "stream",
     "text": [
      "The length of all set is 4921 close guesses length set is 4921\n"
     ]
    }
   ],
   "source": [
    "count = 0\n",
    "X_k_for_s4 = k[save9].values\n",
    "y = k[5408].values.reshape([len(k), 1])\n",
    "X_k_for_s4 = np.hstack((y, X_k_for_s4))\n",
    "#Results obtained by linear regression:\n",
    "test_out_teta_s4_k = X_k_for_s4.dot(teta)\n",
    "\n",
    "for i in range(len(k)):\n",
    "    if math.isclose(test_out_teta_s4_k[i][0], y[i][0], abs_tol=1e-5):\n",
    "        count += 1\n",
    "print('The length of all set is', len(k), 'close guesses length set is', count)"
   ]
  },
  {
   "cell_type": "code",
   "execution_count": 106,
   "metadata": {},
   "outputs": [],
   "source": [
    "#alpha = 0.01086\n",
    "#len((whole_corr[whole_corr[0].abs() < alpha].index).difference(drop9 | save9))"
   ]
  },
  {
   "cell_type": "code",
   "execution_count": 117,
   "metadata": {},
   "outputs": [
    {
     "name": "stdout",
     "output_type": "stream",
     "text": [
      "1.0\n"
     ]
    }
   ],
   "source": [
    "alpha = 0.010851\n",
    "beta = 0.010856\n",
    "drop10 = drop9 | save9\n",
    "mean, save10 = corr_mean(alpha , beta, drop10)\n",
    "print(mean)"
   ]
  },
  {
   "cell_type": "code",
   "execution_count": 123,
   "metadata": {},
   "outputs": [],
   "source": [
    "X_active_for_s4 = active[save10].values\n",
    "y = active[5408].values.reshape([len(active), 1])\n",
    "X_active_for_s4 = np.hstack((y, X_active_for_s4))\n",
    "teta = (np.linalg.inv(X_active_for_s4.T.dot(X_active_for_s4))).dot(X_active_for_s4.T.dot(y))"
   ]
  },
  {
   "cell_type": "code",
   "execution_count": 125,
   "metadata": {},
   "outputs": [
    {
     "name": "stdout",
     "output_type": "stream",
     "text": [
      "The length of all set is 4921 close guesses length set is 4921\n"
     ]
    }
   ],
   "source": [
    "count = 0\n",
    "X_k_for_s4 = k[save10].values\n",
    "y = k[5408].values.reshape([len(k), 1])\n",
    "X_k_for_s4 = np.hstack((y, X_k_for_s4))\n",
    "#Results obtained by linear regression:\n",
    "test_out_teta_s4_k = X_k_for_s4.dot(teta)\n",
    "\n",
    "for i in range(len(k)):\n",
    "    if math.isclose(test_out_teta_s4_k[i][0], y[i][0], abs_tol=1e-5):\n",
    "        count += 1\n",
    "print('The length of all set is', len(k), 'close guesses length set is', count)"
   ]
  },
  {
   "cell_type": "code",
   "execution_count": 127,
   "metadata": {},
   "outputs": [
    {
     "name": "stdout",
     "output_type": "stream",
     "text": [
      "1.0\n"
     ]
    }
   ],
   "source": [
    "alpha = 0.01084\n",
    "beta = 0.01085\n",
    "drop11 = drop10 | save10\n",
    "mean, save11 = corr_mean(alpha , beta, drop11)\n",
    "print(mean)"
   ]
  },
  {
   "cell_type": "code",
   "execution_count": 145,
   "metadata": {},
   "outputs": [],
   "source": [
    "X_active_for_s4 = active[save11].values\n",
    "y = active[5408].values.reshape([len(active), 1])\n",
    "X_active_for_s4 = np.hstack((y, X_active_for_s4))\n",
    "teta = (np.linalg.inv(X_active_for_s4.T.dot(X_active_for_s4))).dot(X_active_for_s4.T.dot(y))"
   ]
  },
  {
   "cell_type": "code",
   "execution_count": 146,
   "metadata": {},
   "outputs": [
    {
     "name": "stdout",
     "output_type": "stream",
     "text": [
      "The length of all set is 4921 close guesses length set is 4921\n"
     ]
    }
   ],
   "source": [
    "count = 0\n",
    "X_k_for_s4 = k[save11].values\n",
    "y = k[5408].values.reshape([len(k), 1])\n",
    "X_k_for_s4 = np.hstack((y, X_k_for_s4))\n",
    "#Results obtained by linear regression:\n",
    "test_out_teta_s4_k = X_k_for_s4.dot(teta)\n",
    "\n",
    "for i in range(len(k)):\n",
    "    if math.isclose(test_out_teta_s4_k[i][0], y[i][0], abs_tol=1e-5):\n",
    "        count += 1\n",
    "print('The length of all set is', len(k), 'close guesses length set is', count)"
   ]
  },
  {
   "cell_type": "code",
   "execution_count": 147,
   "metadata": {},
   "outputs": [
    {
     "name": "stdout",
     "output_type": "stream",
     "text": [
      "1.0\n"
     ]
    }
   ],
   "source": [
    "alpha = 0.01083\n",
    "beta = 0.01084\n",
    "drop12 = drop11 | save11\n",
    "mean, save12 = corr_mean(alpha , beta, drop12)\n",
    "print(mean)"
   ]
  },
  {
   "cell_type": "code",
   "execution_count": 148,
   "metadata": {},
   "outputs": [],
   "source": [
    "X_active_for_s4 = active[save12].values\n",
    "y = active[5408].values.reshape([len(active), 1])\n",
    "X_active_for_s4 = np.hstack((y, X_active_for_s4))\n",
    "teta = (np.linalg.inv(X_active_for_s4.T.dot(X_active_for_s4))).dot(X_active_for_s4.T.dot(y))"
   ]
  },
  {
   "cell_type": "code",
   "execution_count": 149,
   "metadata": {},
   "outputs": [
    {
     "name": "stdout",
     "output_type": "stream",
     "text": [
      "The length of all set is 4921 close guesses length set is 4921\n"
     ]
    }
   ],
   "source": [
    "count = 0\n",
    "X_k_for_s4 = k[save12].values\n",
    "y = k[5408].values.reshape([len(k), 1])\n",
    "X_k_for_s4 = np.hstack((y, X_k_for_s4))\n",
    "#Results obtained by linear regression:\n",
    "test_out_teta_s4_k = X_k_for_s4.dot(teta)\n",
    "\n",
    "for i in range(len(k)):\n",
    "    if math.isclose(test_out_teta_s4_k[i][0], y[i][0], abs_tol=1e-5):\n",
    "        count += 1\n",
    "print('The length of all set is', len(k), 'close guesses length set is', count)"
   ]
  },
  {
   "cell_type": "code",
   "execution_count": 150,
   "metadata": {},
   "outputs": [
    {
     "name": "stdout",
     "output_type": "stream",
     "text": [
      "0.9984817507816726\n"
     ]
    }
   ],
   "source": [
    "alpha = 0.01082\n",
    "beta = 0.01083\n",
    "drop13 = drop12 | save12\n",
    "mean, save13 = corr_mean(alpha , beta, drop13)\n",
    "print(mean)"
   ]
  },
  {
   "cell_type": "code",
   "execution_count": 151,
   "metadata": {},
   "outputs": [],
   "source": [
    "X_active_for_s4 = active[save13].values\n",
    "y = active[5408].values.reshape([len(active), 1])\n",
    "X_active_for_s4 = np.hstack((y, X_active_for_s4))\n",
    "teta = (np.linalg.inv(X_active_for_s4.T.dot(X_active_for_s4))).dot(X_active_for_s4.T.dot(y))"
   ]
  },
  {
   "cell_type": "code",
   "execution_count": 152,
   "metadata": {},
   "outputs": [
    {
     "name": "stdout",
     "output_type": "stream",
     "text": [
      "The length of all set is 4921 close guesses length set is 4921\n"
     ]
    }
   ],
   "source": [
    "count = 0\n",
    "X_k_for_s4 = k[save13].values\n",
    "y = k[5408].values.reshape([len(k), 1])\n",
    "X_k_for_s4 = np.hstack((y, X_k_for_s4))\n",
    "#Results obtained by linear regression:\n",
    "test_out_teta_s4_k = X_k_for_s4.dot(teta)\n",
    "\n",
    "for i in range(len(k)):\n",
    "    if math.isclose(test_out_teta_s4_k[i][0], y[i][0], abs_tol=1e-5):\n",
    "        count += 1\n",
    "print('The length of all set is', len(k), 'close guesses length set is', count)"
   ]
  },
  {
   "cell_type": "code",
   "execution_count": 154,
   "metadata": {},
   "outputs": [
    {
     "name": "stdout",
     "output_type": "stream",
     "text": [
      "0.9404479726015302\n"
     ]
    }
   ],
   "source": [
    "alpha = 0.01081\n",
    "beta = 0.01082\n",
    "drop14 = drop13 | save13\n",
    "mean, save14 = corr_mean(alpha , beta, drop14)\n",
    "print(mean)"
   ]
  },
  {
   "cell_type": "code",
   "execution_count": 155,
   "metadata": {},
   "outputs": [],
   "source": [
    "X_active_for_s4 = active[save14].values\n",
    "y = active[5408].values.reshape([len(active), 1])\n",
    "X_active_for_s4 = np.hstack((y, X_active_for_s4))\n",
    "teta = (np.linalg.inv(X_active_for_s4.T.dot(X_active_for_s4))).dot(X_active_for_s4.T.dot(y))"
   ]
  },
  {
   "cell_type": "code",
   "execution_count": 156,
   "metadata": {},
   "outputs": [
    {
     "name": "stdout",
     "output_type": "stream",
     "text": [
      "The length of all set is 4921 close guesses length set is 4921\n"
     ]
    }
   ],
   "source": [
    "count = 0\n",
    "X_k_for_s4 = k[save14].values\n",
    "y = k[5408].values.reshape([len(k), 1])\n",
    "X_k_for_s4 = np.hstack((y, X_k_for_s4))\n",
    "#Results obtained by linear regression:\n",
    "test_out_teta_s4_k = X_k_for_s4.dot(teta)\n",
    "\n",
    "for i in range(len(k)):\n",
    "    if math.isclose(test_out_teta_s4_k[i][0], y[i][0], abs_tol=1e-5):\n",
    "        count += 1\n",
    "print('The length of all set is', len(k), 'close guesses length set is', count)"
   ]
  },
  {
   "cell_type": "code",
   "execution_count": 181,
   "metadata": {},
   "outputs": [
    {
     "name": "stdout",
     "output_type": "stream",
     "text": [
      "1.0\n"
     ]
    }
   ],
   "source": [
    "alpha = 0.379\n",
    "beta = 0.385\n",
    "drop15 = drop14 | save14\n",
    "mean, save15 = corr_mean(alpha , beta, drop15)\n",
    "print(mean)"
   ]
  },
  {
   "cell_type": "code",
   "execution_count": 182,
   "metadata": {},
   "outputs": [],
   "source": [
    "X_active_for_s4 = active[save15].values\n",
    "y = active[5408].values.reshape([len(active), 1])\n",
    "X_active_for_s4 = np.hstack((y, X_active_for_s4))\n",
    "teta = (np.linalg.inv(X_active_for_s4.T.dot(X_active_for_s4))).dot(X_active_for_s4.T.dot(y))"
   ]
  },
  {
   "cell_type": "code",
   "execution_count": 183,
   "metadata": {},
   "outputs": [
    {
     "name": "stdout",
     "output_type": "stream",
     "text": [
      "The length of all set is 4921 close guesses length set is 4921\n"
     ]
    }
   ],
   "source": [
    "count = 0\n",
    "X_k_for_s4 = k[save15].values\n",
    "y = k[5408].values.reshape([len(k), 1])\n",
    "X_k_for_s4 = np.hstack((y, X_k_for_s4))\n",
    "#Results obtained by linear regression:\n",
    "test_out_teta_s4_k = X_k_for_s4.dot(teta)\n",
    "\n",
    "for i in range(len(k)):\n",
    "    if math.isclose(test_out_teta_s4_k[i][0], y[i][0], abs_tol=1e-5):\n",
    "        count += 1\n",
    "print('The length of all set is', len(k), 'close guesses length set is', count)"
   ]
  },
  {
   "cell_type": "code",
   "execution_count": 219,
   "metadata": {},
   "outputs": [
    {
     "name": "stdout",
     "output_type": "stream",
     "text": [
      "1.0\n"
     ]
    }
   ],
   "source": [
    "alpha = 0.355\n",
    "beta = 0.4\n",
    "drop16 = drop15 | save15\n",
    "mean, save16 = corr_mean(alpha , beta, drop16)\n",
    "print(mean)"
   ]
  },
  {
   "cell_type": "code",
   "execution_count": 220,
   "metadata": {},
   "outputs": [],
   "source": [
    "X_active_for_s4 = active[save16].values\n",
    "y = active[5408].values.reshape([len(active), 1])\n",
    "X_active_for_s4 = np.hstack((y, X_active_for_s4))\n",
    "teta = (np.linalg.inv(X_active_for_s4.T.dot(X_active_for_s4))).dot(X_active_for_s4.T.dot(y))"
   ]
  },
  {
   "cell_type": "code",
   "execution_count": 221,
   "metadata": {},
   "outputs": [
    {
     "name": "stdout",
     "output_type": "stream",
     "text": [
      "The length of all set is 4921 close guesses length set is 4921\n"
     ]
    }
   ],
   "source": [
    "count = 0\n",
    "X_k_for_s4 = k[save16].values\n",
    "y = k[5408].values.reshape([len(k), 1])\n",
    "X_k_for_s4 = np.hstack((y, X_k_for_s4))\n",
    "#Results obtained by linear regression:\n",
    "test_out_teta_s4_k = X_k_for_s4.dot(teta)\n",
    "\n",
    "for i in range(len(k)):\n",
    "    if math.isclose(test_out_teta_s4_k[i][0], y[i][0], abs_tol=1e-5):\n",
    "        count += 1\n",
    "print('The length of all set is', len(k), 'close guesses length set is', count)"
   ]
  },
  {
   "cell_type": "code",
   "execution_count": null,
   "metadata": {},
   "outputs": [],
   "source": []
  }
 ],
 "metadata": {
  "kernelspec": {
   "display_name": "Python 3",
   "language": "python",
   "name": "python3"
  },
  "language_info": {
   "codemirror_mode": {
    "name": "ipython",
    "version": 3
   },
   "file_extension": ".py",
   "mimetype": "text/x-python",
   "name": "python",
   "nbconvert_exporter": "python",
   "pygments_lexer": "ipython3",
   "version": "3.7.3"
  }
 },
 "nbformat": 4,
 "nbformat_minor": 2
}
